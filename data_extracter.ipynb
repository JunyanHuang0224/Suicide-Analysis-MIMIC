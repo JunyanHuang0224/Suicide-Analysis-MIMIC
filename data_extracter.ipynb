{
 "cells": [
  {
   "cell_type": "code",
   "execution_count": null,
   "metadata": {},
   "outputs": [],
   "source": [
    "# Built-in modules\n",
    "import re\n",
    "\n",
    "# Third-party modules\n",
    "from bs4 import BeautifulSoup\n",
    "import pandas as pd\n",
    "import requests\n",
    "from requests.auth import HTTPBasicAuth\n",
    "\n",
    "WEB_LINK = 'https://physionet.org/works/eICUCollaborativeResearchDatabase/files/'\n",
    "USERNAME = 'jh26@hood.edu'\n",
    "PASSWORD = '201661Emma!'\n",
    "\n",
    "def auth_get(url, stream=False):\n",
    "    return requests.get(url, auth=HTTPBasicAuth(USERNAME, PASSWORD), stream=stream)\n",
    "\n",
    "def get_links_from_webpage():\n",
    "    # Parses links from HTML\n",
    "    resp = auth_get(WEB_LINK)\n",
    "    soup = BeautifulSoup(resp.text, \"html.parser\")\n",
    "\n",
    "    # Gets list of links\n",
    "    links = []\n",
    "    for link in soup.find_all('a', text=re.compile('gz')):\n",
    "        links.append(WEB_LINK + link['href'])\n",
    "\n",
    "    return links\n",
    "\n",
    "def extract_data(file_link):\n",
    "    resp = auth_get(file_link, stream=True)\n",
    "    return pd.read_csv(resp.raw, compression='gzip', error_bad_lines=False)"
   ]
  }
 ],
 "metadata": {
  "kernelspec": {
   "display_name": "Python 3",
   "language": "python",
   "name": "python3"
  },
  "language_info": {
   "codemirror_mode": {
    "name": "ipython",
    "version": 3
   },
   "file_extension": ".py",
   "mimetype": "text/x-python",
   "name": "python",
   "nbconvert_exporter": "python",
   "pygments_lexer": "ipython3",
   "version": "3.6.5"
  }
 },
 "nbformat": 4,
 "nbformat_minor": 2
}
