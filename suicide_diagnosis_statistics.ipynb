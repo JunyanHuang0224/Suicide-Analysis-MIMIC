{
 "cells": [
  {
   "cell_type": "markdown",
   "metadata": {},
   "source": [
    "<h1><center>Suicide Diagnosis Statistics</center></h1> \n",
    "__<div style=\"text-align: right\"> Junyan Huang</div>__\n",
    "__<div style=\"text-align: right\"> Oct 9, 2018 WEEK 6</div>__"
   ]
  },
  {
   "cell_type": "markdown",
   "metadata": {},
   "source": [
    "This project is to find out the suicide methods in the diagnosis dataset."
   ]
  },
  {
   "cell_type": "code",
   "execution_count": 225,
   "metadata": {},
   "outputs": [],
   "source": [
    "import pandas as pd\n",
    "import numpy as np\n",
    "import matplotlib.pyplot as plt\n",
    "from matplotlib_venn import venn2\n",
    "import re\n"
   ]
  },
  {
   "cell_type": "code",
   "execution_count": 226,
   "metadata": {},
   "outputs": [],
   "source": [
    "sui_diagnosis = pd.read_csv(\"sui_diagnosis.csv\", header=0, sep=\",\")"
   ]
  },
  {
   "cell_type": "code",
   "execution_count": 227,
   "metadata": {},
   "outputs": [
    {
     "name": "stdout",
     "output_type": "stream",
     "text": [
      "(4287, 8)\n"
     ]
    }
   ],
   "source": [
    "pd.set_option('max_colwidth',1000)\n",
    "print(sui_diagnosis.shape)"
   ]
  },
  {
   "cell_type": "code",
   "execution_count": 228,
   "metadata": {},
   "outputs": [
    {
     "data": {
      "text/plain": [
       "1470"
      ]
     },
     "execution_count": 228,
     "metadata": {},
     "output_type": "execute_result"
    }
   ],
   "source": [
    "patientunitstayid = sui_diagnosis[\"patientunitstayid\"]\n",
    "patientunitstayid.nunique()"
   ]
  },
  {
   "cell_type": "code",
   "execution_count": 229,
   "metadata": {},
   "outputs": [
    {
     "name": "stdout",
     "output_type": "stream",
     "text": [
      "(4287, 6)\n"
     ]
    }
   ],
   "source": [
    "new_df = sui_diagnosis.drop([\"Unnamed: 0\", \"diagnosisid\"], axis=1)\n",
    "print(new_df.shape)"
   ]
  },
  {
   "cell_type": "code",
   "execution_count": 230,
   "metadata": {},
   "outputs": [
    {
     "data": {
      "text/html": [
       "<div>\n",
       "<style scoped>\n",
       "    .dataframe tbody tr th:only-of-type {\n",
       "        vertical-align: middle;\n",
       "    }\n",
       "\n",
       "    .dataframe tbody tr th {\n",
       "        vertical-align: top;\n",
       "    }\n",
       "\n",
       "    .dataframe thead th {\n",
       "        text-align: right;\n",
       "    }\n",
       "</style>\n",
       "<table border=\"1\" class=\"dataframe\">\n",
       "  <thead>\n",
       "    <tr style=\"text-align: right;\">\n",
       "      <th></th>\n",
       "      <th>patientunitstayid</th>\n",
       "      <th>activeupondischarge</th>\n",
       "      <th>diagnosisoffset</th>\n",
       "      <th>diagnosisstring</th>\n",
       "      <th>icd9code</th>\n",
       "      <th>diagnosispriority</th>\n",
       "    </tr>\n",
       "  </thead>\n",
       "  <tbody>\n",
       "    <tr>\n",
       "      <th>7</th>\n",
       "      <td>147041</td>\n",
       "      <td>True</td>\n",
       "      <td>503</td>\n",
       "      <td>toxicology|drug overdose|drug overdose- general|previous suicide attempts</td>\n",
       "      <td>NaN</td>\n",
       "      <td>Primary</td>\n",
       "    </tr>\n",
       "    <tr>\n",
       "      <th>8</th>\n",
       "      <td>147041</td>\n",
       "      <td>True</td>\n",
       "      <td>503</td>\n",
       "      <td>toxicology|drug overdose|drug overdose- general|suicide gesture</td>\n",
       "      <td>NaN</td>\n",
       "      <td>Primary</td>\n",
       "    </tr>\n",
       "    <tr>\n",
       "      <th>9</th>\n",
       "      <td>147041</td>\n",
       "      <td>False</td>\n",
       "      <td>18</td>\n",
       "      <td>toxicology|drug overdose|drug overdose- general|previous suicide attempts</td>\n",
       "      <td>NaN</td>\n",
       "      <td>Primary</td>\n",
       "    </tr>\n",
       "    <tr>\n",
       "      <th>10</th>\n",
       "      <td>147041</td>\n",
       "      <td>False</td>\n",
       "      <td>260</td>\n",
       "      <td>toxicology|drug overdose|drug overdose- general|previous suicide attempts</td>\n",
       "      <td>NaN</td>\n",
       "      <td>Primary</td>\n",
       "    </tr>\n",
       "    <tr>\n",
       "      <th>11</th>\n",
       "      <td>147041</td>\n",
       "      <td>False</td>\n",
       "      <td>260</td>\n",
       "      <td>toxicology|drug overdose|drug overdose- general|suicide gesture</td>\n",
       "      <td>NaN</td>\n",
       "      <td>Primary</td>\n",
       "    </tr>\n",
       "    <tr>\n",
       "      <th>12</th>\n",
       "      <td>147041</td>\n",
       "      <td>False</td>\n",
       "      <td>18</td>\n",
       "      <td>toxicology|drug overdose|drug overdose- general|suicide gesture</td>\n",
       "      <td>NaN</td>\n",
       "      <td>Primary</td>\n",
       "    </tr>\n",
       "  </tbody>\n",
       "</table>\n",
       "</div>"
      ],
      "text/plain": [
       "    patientunitstayid  activeupondischarge  diagnosisoffset  \\\n",
       "7              147041                 True              503   \n",
       "8              147041                 True              503   \n",
       "9              147041                False               18   \n",
       "10             147041                False              260   \n",
       "11             147041                False              260   \n",
       "12             147041                False               18   \n",
       "\n",
       "                                                              diagnosisstring  \\\n",
       "7   toxicology|drug overdose|drug overdose- general|previous suicide attempts   \n",
       "8             toxicology|drug overdose|drug overdose- general|suicide gesture   \n",
       "9   toxicology|drug overdose|drug overdose- general|previous suicide attempts   \n",
       "10  toxicology|drug overdose|drug overdose- general|previous suicide attempts   \n",
       "11            toxicology|drug overdose|drug overdose- general|suicide gesture   \n",
       "12            toxicology|drug overdose|drug overdose- general|suicide gesture   \n",
       "\n",
       "   icd9code diagnosispriority  \n",
       "7       NaN           Primary  \n",
       "8       NaN           Primary  \n",
       "9       NaN           Primary  \n",
       "10      NaN           Primary  \n",
       "11      NaN           Primary  \n",
       "12      NaN           Primary  "
      ]
     },
     "execution_count": 230,
     "metadata": {},
     "output_type": "execute_result"
    }
   ],
   "source": [
    "new_df.loc[new_df[\"patientunitstayid\"]==147041]"
   ]
  },
  {
   "cell_type": "markdown",
   "metadata": {},
   "source": [
    "In the dataset, there are some patientunitstayids have the same diagnosis in diiferent off set time. In this case, only one diagnosis string will be kept."
   ]
  },
  {
   "cell_type": "code",
   "execution_count": 231,
   "metadata": {},
   "outputs": [
    {
     "name": "stdout",
     "output_type": "stream",
     "text": [
      "   patientunitstayid  \\\n",
      "0             143389   \n",
      "1             143389   \n",
      "2             144741   \n",
      "3             146060   \n",
      "4             146486   \n",
      "\n",
      "                                                             diagnosisstring  \n",
      "0  toxicology|drug overdose|drug overdose- general|previous suicide attempts  \n",
      "1            toxicology|drug overdose|drug overdose- general|suicide attempt  \n",
      "2  toxicology|drug overdose|drug overdose- general|previous suicide attempts  \n",
      "3            toxicology|drug overdose|drug overdose- general|suicide gesture  \n",
      "4                  neurologic|altered mental status / pain|suicidal ideation  \n"
     ]
    }
   ],
   "source": [
    "new_df2 = new_df.drop([\"activeupondischarge\", \"diagnosisoffset\", \"icd9code\", \"diagnosispriority\"], axis=1)\n",
    "print(new_df2.head())"
   ]
  },
  {
   "cell_type": "code",
   "execution_count": 232,
   "metadata": {},
   "outputs": [
    {
     "name": "stdout",
     "output_type": "stream",
     "text": [
      "(1878, 2)\n"
     ]
    },
    {
     "data": {
      "text/html": [
       "<div>\n",
       "<style scoped>\n",
       "    .dataframe tbody tr th:only-of-type {\n",
       "        vertical-align: middle;\n",
       "    }\n",
       "\n",
       "    .dataframe tbody tr th {\n",
       "        vertical-align: top;\n",
       "    }\n",
       "\n",
       "    .dataframe thead th {\n",
       "        text-align: right;\n",
       "    }\n",
       "</style>\n",
       "<table border=\"1\" class=\"dataframe\">\n",
       "  <thead>\n",
       "    <tr style=\"text-align: right;\">\n",
       "      <th></th>\n",
       "      <th>patientunitstayid</th>\n",
       "      <th>diagnosisstring</th>\n",
       "    </tr>\n",
       "  </thead>\n",
       "  <tbody>\n",
       "    <tr>\n",
       "      <th>7</th>\n",
       "      <td>147041</td>\n",
       "      <td>toxicology|drug overdose|drug overdose- general|previous suicide attempts</td>\n",
       "    </tr>\n",
       "    <tr>\n",
       "      <th>8</th>\n",
       "      <td>147041</td>\n",
       "      <td>toxicology|drug overdose|drug overdose- general|suicide gesture</td>\n",
       "    </tr>\n",
       "  </tbody>\n",
       "</table>\n",
       "</div>"
      ],
      "text/plain": [
       "   patientunitstayid  \\\n",
       "7             147041   \n",
       "8             147041   \n",
       "\n",
       "                                                             diagnosisstring  \n",
       "7  toxicology|drug overdose|drug overdose- general|previous suicide attempts  \n",
       "8            toxicology|drug overdose|drug overdose- general|suicide gesture  "
      ]
     },
     "execution_count": 232,
     "metadata": {},
     "output_type": "execute_result"
    }
   ],
   "source": [
    "new_df3 = new_df2.drop_duplicates()\n",
    "print(new_df3.shape)\n",
    "new_df3.loc[new_df[\"patientunitstayid\"]==147041]"
   ]
  },
  {
   "cell_type": "markdown",
   "metadata": {},
   "source": [
    "The duplicates are dropped. Only the first occurance is kept. The new_df3 has 1878 rows of diagnosis records. These records will be used."
   ]
  },
  {
   "cell_type": "code",
   "execution_count": 233,
   "metadata": {},
   "outputs": [
    {
     "data": {
      "text/plain": [
       "patientunitstayid    0\n",
       "diagnosisstring      0\n",
       "dtype: int64"
      ]
     },
     "execution_count": 233,
     "metadata": {},
     "output_type": "execute_result"
    }
   ],
   "source": [
    "new_df3.isnull().sum()"
   ]
  },
  {
   "cell_type": "code",
   "execution_count": 234,
   "metadata": {},
   "outputs": [
    {
     "data": {
      "text/plain": [
       "(1878, 2)"
      ]
     },
     "execution_count": 234,
     "metadata": {},
     "output_type": "execute_result"
    }
   ],
   "source": [
    "new_df3.shape"
   ]
  },
  {
   "cell_type": "markdown",
   "metadata": {},
   "source": [
    "No diagnosis string is missing."
   ]
  },
  {
   "cell_type": "markdown",
   "metadata": {},
   "source": [
    "Extra the diagnosis strings from the dataset."
   ]
  },
  {
   "cell_type": "code",
   "execution_count": 235,
   "metadata": {},
   "outputs": [],
   "source": [
    "sui_patientunitstayid = list(new_df3[\"patientunitstayid\"])\n",
    "#print(len(sui_patientunitstayid))\n",
    "string = list(new_df3[\"diagnosisstring\"])\n",
    "#print(len(string))"
   ]
  },
  {
   "cell_type": "code",
   "execution_count": 236,
   "metadata": {},
   "outputs": [],
   "source": [
    "def counter(mylist):\n",
    "    result = {}\n",
    "    for index,item in enumerate(mylist):\n",
    "        if item in result.keys():\n",
    "            result[item]+=1   \n",
    "        else:\n",
    "            result[item]=1\n",
    "    return result"
   ]
  },
  {
   "cell_type": "code",
   "execution_count": 237,
   "metadata": {},
   "outputs": [
    {
     "name": "stdout",
     "output_type": "stream",
     "text": [
      "{'toxicology|drug overdose|drug overdose- general|suicide attempt': 881, 'neurologic|altered mental status / pain|suicidal ideation': 468, 'toxicology|drug overdose|drug overdose- general|suicide gesture': 193, 'toxicology|drug overdose|drug overdose- general|previous suicide attempts': 336}\n"
     ]
    }
   ],
   "source": [
    "string_sum = counter(string)\n",
    "print(string_sum)"
   ]
  },
  {
   "cell_type": "code",
   "execution_count": 238,
   "metadata": {},
   "outputs": [],
   "source": [
    "string_df = pd.DataFrame.from_dict(string_sum,orient='index')\n",
    "string_df = string_df.reset_index()\n",
    "string_df = string_df.rename(columns={\"index\":\"diagnosis_string\", 0:\"number\"})\n",
    "pd.set_option('max_colwidth',1000)"
   ]
  },
  {
   "cell_type": "code",
   "execution_count": 239,
   "metadata": {},
   "outputs": [
    {
     "data": {
      "text/plain": [
       "1878"
      ]
     },
     "execution_count": 239,
     "metadata": {},
     "output_type": "execute_result"
    }
   ],
   "source": [
    "string_df[\"number\"].sum()"
   ]
  },
  {
   "cell_type": "code",
   "execution_count": 240,
   "metadata": {},
   "outputs": [],
   "source": [
    "string_df[\"percent%\"]= (string_df[\"number\"]/string_df[\"number\"].sum()*100).round(2)"
   ]
  },
  {
   "cell_type": "code",
   "execution_count": 241,
   "metadata": {},
   "outputs": [
    {
     "name": "stdout",
     "output_type": "stream",
     "text": [
      "                                                            diagnosis_string  \\\n",
      "0            toxicology|drug overdose|drug overdose- general|suicide attempt   \n",
      "1                  neurologic|altered mental status / pain|suicidal ideation   \n",
      "2            toxicology|drug overdose|drug overdose- general|suicide gesture   \n",
      "3  toxicology|drug overdose|drug overdose- general|previous suicide attempts   \n",
      "\n",
      "   number  percent%  \n",
      "0     881     46.91  \n",
      "1     468     24.92  \n",
      "2     193     10.28  \n",
      "3     336     17.89  \n"
     ]
    }
   ],
   "source": [
    "print(string_df)"
   ]
  },
  {
   "cell_type": "code",
   "execution_count": 242,
   "metadata": {},
   "outputs": [],
   "source": [
    "import matplotlib.pyplot as plt"
   ]
  },
  {
   "cell_type": "code",
   "execution_count": 243,
   "metadata": {},
   "outputs": [
    {
     "data": {
      "image/png": "[encoded data removed]",
      "text/plain": [
       "<Figure size 432x288 with 1 Axes>"
      ]
     },
     "metadata": {},
     "output_type": "display_data"
    }
   ],
   "source": [
    "data = list(string_df[\"number\"])\n",
    "labels=[\"suicide attempt\", \"suicidal ideation\", \"suicide gesture\", \n",
    "        \"previous suicide attempts\"]\n",
    "colors = ['gold', 'yellowgreen', 'lightcoral', 'lightskyblue']\n",
    "explode = (0.05, 0, 0, 0)\n",
    "plt.pie(data, explode=explode, colors=colors,\n",
    "        autopct='%1.2f%%', shadow=True, startangle=140, pctdistance=0.6, counterclock=True, \n",
    "        wedgeprops = {'linewidth': 3}, labels=None)\n",
    "plt.axis(\"scaled\")\n",
    "plt.legend(labels,labelspacing=0.1, loc=\"right\", bbox_to_anchor=(1.8,0.8))\n",
    "plt.title(\"Suicide Methods and Percentages\", color=\"green\", size=15)\n",
    "plt.show()\n"
   ]
  },
  {
   "cell_type": "markdown",
   "metadata": {},
   "source": [
    "In the 1878 diagnosis records, 46.91% of them are suicide attempts, 17.89% have previous suicide attempts, 34.92% are suicide gestures, while 10.28% are suicide gestures."
   ]
  },
  {
   "cell_type": "code",
   "execution_count": 244,
   "metadata": {},
   "outputs": [
    {
     "data": {
      "image/png": "[encoded data removed]",
      "text/plain": [
       "<Figure size 432x288 with 1 Axes>"
      ]
     },
     "metadata": {},
     "output_type": "display_data"
    }
   ],
   "source": [
    "drug_overdoes = string_df.iloc[0,1] + string_df.iloc[2,1]+string_df.iloc[3,1]\n",
    "ideation = string_df.iloc[1,1]\n",
    "data = [drug_overdoes, ideation]\n",
    "labels=[\"drug_overdoes\", \"altered mental status\"]\n",
    "colors = ['gold', 'lightskyblue']\n",
    "explode = (0, 0.1)\n",
    "plt.pie(data, explode=explode, colors=colors,\n",
    "        autopct='%1.2f%%', shadow=True, startangle=90, pctdistance=0.6, counterclock=True, \n",
    "        wedgeprops = {'linewidth': 3}, labels=None)\n",
    "plt.axis(\"scaled\")\n",
    "plt.legend(labels,labelspacing=0.1, loc=\"right\", bbox_to_anchor=(1.8,0.8))\n",
    "plt.title(\"Suicide Methods and Percentages\", color=\"green\", size=15)\n",
    "plt.show()"
   ]
  },
  {
   "cell_type": "markdown",
   "metadata": {},
   "source": [
    "About three quarters of suicide records are by drug overdose, and one quarter are caused by altered mental status or pain which leads to suicidal ideation."
   ]
  },
  {
   "cell_type": "markdown",
   "metadata": {},
   "source": [
    "## Check Overlappings\n",
    "It seems like there are some overlappings in the dataset. For example, a patient has suicidal ideation may also has committed suicide."
   ]
  },
  {
   "cell_type": "code",
   "execution_count": 245,
   "metadata": {},
   "outputs": [],
   "source": [
    "is_ideation = sui_diagnosis[\"diagnosisstring\"].str.contains(\"ideation\")"
   ]
  },
  {
   "cell_type": "code",
   "execution_count": 246,
   "metadata": {},
   "outputs": [],
   "source": [
    "ideation = sui_diagnosis[is_ideation]"
   ]
  },
  {
   "cell_type": "code",
   "execution_count": 247,
   "metadata": {},
   "outputs": [
    {
     "data": {
      "text/plain": [
       "(1105, 8)"
      ]
     },
     "execution_count": 247,
     "metadata": {},
     "output_type": "execute_result"
    }
   ],
   "source": [
    "ideation.shape"
   ]
  },
  {
   "cell_type": "code",
   "execution_count": 248,
   "metadata": {},
   "outputs": [],
   "source": [
    "ideation_patient = np.array(ideation[\"patientunitstayid\"])"
   ]
  },
  {
   "cell_type": "code",
   "execution_count": 249,
   "metadata": {},
   "outputs": [
    {
     "data": {
      "text/plain": [
       "1105"
      ]
     },
     "execution_count": 249,
     "metadata": {},
     "output_type": "execute_result"
    }
   ],
   "source": [
    "len(ideation_patient)"
   ]
  },
  {
   "cell_type": "code",
   "execution_count": 250,
   "metadata": {},
   "outputs": [],
   "source": [
    "suicide_all = sui_diagnosis[sui_diagnosis[\"diagnosisstring\"].str.contains(\"suicide\")]"
   ]
  },
  {
   "cell_type": "code",
   "execution_count": 251,
   "metadata": {},
   "outputs": [
    {
     "data": {
      "text/plain": [
       "(3182, 8)"
      ]
     },
     "execution_count": 251,
     "metadata": {},
     "output_type": "execute_result"
    }
   ],
   "source": [
    "suicide_all.shape"
   ]
  },
  {
   "cell_type": "code",
   "execution_count": 252,
   "metadata": {},
   "outputs": [],
   "source": [
    "suicide_patient =np.array(suicide_all[\"patientunitstayid\"])"
   ]
  },
  {
   "cell_type": "code",
   "execution_count": 253,
   "metadata": {},
   "outputs": [],
   "source": [
    "is_ideation_and_suicide = np.isin(ideation_patient,suicide_patient)"
   ]
  },
  {
   "cell_type": "code",
   "execution_count": 254,
   "metadata": {},
   "outputs": [],
   "source": [
    "ideation_and_suicide_patient = ideation[is_ideation_and_suicide][\"patientunitstayid\"]"
   ]
  },
  {
   "cell_type": "code",
   "execution_count": 255,
   "metadata": {},
   "outputs": [
    {
     "data": {
      "text/plain": [
       "78"
      ]
     },
     "execution_count": 255,
     "metadata": {},
     "output_type": "execute_result"
    }
   ],
   "source": [
    "len(ideation_and_suicide_patient.unique())"
   ]
  },
  {
   "cell_type": "markdown",
   "metadata": {},
   "source": [
    "There are 78 patients in the dataset that have suicidal ideation and have committed suicide."
   ]
  },
  {
   "cell_type": "markdown",
   "metadata": {},
   "source": [
    "drop duplicates in the suicide dataset and the ideation dataset. The rows with same patientunitstayid and same diagnosisstring will be drop except the first occurence."
   ]
  },
  {
   "cell_type": "code",
   "execution_count": 256,
   "metadata": {},
   "outputs": [],
   "source": [
    "ideation_clean = ideation.drop_duplicates(subset=[\"patientunitstayid\", \"diagnosisstring\"])"
   ]
  },
  {
   "cell_type": "code",
   "execution_count": 257,
   "metadata": {},
   "outputs": [
    {
     "data": {
      "image/png": "[encoded data removed]",
      "text/plain": [
       "<Figure size 432x288 with 1 Axes>"
      ]
     },
     "metadata": {},
     "output_type": "display_data"
    }
   ],
   "source": [
    "venn2([set(np.array(ideation_clean[\"patientunitstayid\"])), set(np.array(suicide_all_clean[\"patientunitstayid\"]))],\n",
    "      set_labels = ('suicidal ideation', 'suicide'))\n",
    "plt.title(\"Number of Suicide and Suicide Ideation\", size=18)\n",
    "plt.show()"
   ]
  },
  {
   "cell_type": "code",
   "execution_count": 258,
   "metadata": {},
   "outputs": [
    {
     "data": {
      "text/plain": [
       "(468, 8)"
      ]
     },
     "execution_count": 258,
     "metadata": {},
     "output_type": "execute_result"
    }
   ],
   "source": [
    "ideation_clean.shape"
   ]
  },
  {
   "cell_type": "code",
   "execution_count": 259,
   "metadata": {},
   "outputs": [],
   "source": [
    "suicide_all_clean = suicide_all.drop_duplicates(subset=[\"patientunitstayid\", \"diagnosisstring\"])"
   ]
  },
  {
   "cell_type": "code",
   "execution_count": 260,
   "metadata": {},
   "outputs": [
    {
     "data": {
      "text/plain": [
       "(1410, 8)"
      ]
     },
     "execution_count": 260,
     "metadata": {},
     "output_type": "execute_result"
    }
   ],
   "source": [
    "suicide_all_clean.shape"
   ]
  },
  {
   "cell_type": "code",
   "execution_count": 261,
   "metadata": {},
   "outputs": [],
   "source": [
    "previous_suicide_clean = suicide_all_clean[suicide_all_clean[\"diagnosisstring\"].str.contains(\"previous suicide attempts\")]"
   ]
  },
  {
   "cell_type": "code",
   "execution_count": 262,
   "metadata": {},
   "outputs": [
    {
     "data": {
      "text/plain": [
       "(336, 8)"
      ]
     },
     "execution_count": 262,
     "metadata": {},
     "output_type": "execute_result"
    }
   ],
   "source": [
    "previous_suicide_clean.shape"
   ]
  },
  {
   "cell_type": "code",
   "execution_count": 263,
   "metadata": {},
   "outputs": [],
   "source": [
    "suicide_gesture_clean = suicide_all_clean[suicide_all_clean[\"diagnosisstring\"].str.contains(\"suicide gesture\")]"
   ]
  },
  {
   "cell_type": "code",
   "execution_count": 264,
   "metadata": {},
   "outputs": [
    {
     "data": {
      "text/plain": [
       "(193, 8)"
      ]
     },
     "execution_count": 264,
     "metadata": {},
     "output_type": "execute_result"
    }
   ],
   "source": [
    "suicide_gesture_clean.shape"
   ]
  },
  {
   "cell_type": "code",
   "execution_count": 265,
   "metadata": {},
   "outputs": [],
   "source": [
    "suicide_attempt_clean = suicide_all_clean[suicide_all_clean[\"diagnosisstring\"].\n",
    "                                          str.contains(\"\\\\bsuicide attempt\\\\b\", case=True, regex=True)]\n"
   ]
  },
  {
   "cell_type": "code",
   "execution_count": 266,
   "metadata": {},
   "outputs": [
    {
     "data": {
      "text/plain": [
       "(881, 8)"
      ]
     },
     "execution_count": 266,
     "metadata": {},
     "output_type": "execute_result"
    }
   ],
   "source": [
    "suicide_attempt_clean.shape"
   ]
  },
  {
   "cell_type": "code",
   "execution_count": 267,
   "metadata": {},
   "outputs": [
    {
     "data": {
      "image/png": "[encoded data removed]",
      "text/plain": [
       "<Figure size 432x288 with 1 Axes>"
      ]
     },
     "metadata": {},
     "output_type": "display_data"
    }
   ],
   "source": [
    "venn2([set(np.array(suicide_attempt_clean[\"patientunitstayid\"])), set(np.array(previous_suicide_clean[\"patientunitstayid\"]))],\n",
    "      set_labels = ('suicide attempt', 'previous suicide attempts'))\n",
    "plt.title(\"Number of Previuos Suicide Attempts and Suicide Attempt\", size=18)\n",
    "plt.show()"
   ]
  },
  {
   "cell_type": "markdown",
   "metadata": {},
   "source": [
    "240 out of 881 of the suicide attempt records are not the first attempt. "
   ]
  },
  {
   "cell_type": "code",
   "execution_count": 268,
   "metadata": {},
   "outputs": [
    {
     "data": {
      "image/png": "[encoded data removed]",
      "text/plain": [
       "<Figure size 432x288 with 1 Axes>"
      ]
     },
     "metadata": {},
     "output_type": "display_data"
    }
   ],
   "source": [
    "venn2([set(np.array(suicide_attempt_clean[\"patientunitstayid\"])), set(np.array(suicide_gesture_clean[\"patientunitstayid\"]))],\n",
    "      set_labels = ('suicide attempt', 'suicide gesture'))\n",
    "plt.title(\"Number of Suicide Attempt and Suicide Guesture\", size=18)\n",
    "plt.show()"
   ]
  },
  {
   "cell_type": "markdown",
   "metadata": {},
   "source": [
    "63 out of 881 of the suicide attempt records are suicide gestures. 63 out of 193 suicide guesture records are real suicide."
   ]
  },
  {
   "cell_type": "code",
   "execution_count": 269,
   "metadata": {},
   "outputs": [
    {
     "data": {
      "image/png": "[encoded data removed]",
      "text/plain": [
       "<Figure size 432x288 with 1 Axes>"
      ]
     },
     "metadata": {},
     "output_type": "display_data"
    }
   ],
   "source": [
    "venn2([set(np.array(previous_suicide_clean[\"patientunitstayid\"])), set(np.array(suicide_gesture_clean[\"patientunitstayid\"]))],\n",
    "      set_labels = ('previous suicide attempt', 'suicide gesture'))\n",
    "plt.title(\"Number of Previous Suicide Attempts and Suicide Guesture\", size=18)\n",
    "plt.show()"
   ]
  },
  {
   "cell_type": "markdown",
   "metadata": {},
   "source": [
    "54 out of 193 suicide guesture records are not the first try."
   ]
  },
  {
   "cell_type": "code",
   "execution_count": 270,
   "metadata": {},
   "outputs": [
    {
     "data": {
      "image/png": "[encoded data removed]",
      "text/plain": [
       "<Figure size 432x288 with 1 Axes>"
      ]
     },
     "metadata": {},
     "output_type": "display_data"
    }
   ],
   "source": [
    "set1 =set(np.array(previous_suicide_clean[\"patientunitstayid\"]))\n",
    "set2 = set(np.array(suicide_gesture_clean[\"patientunitstayid\"]))\n",
    "set3= set(np.array(suicide_attempt_clean[\"patientunitstayid\"]))\n",
    "set4=set(np.array(ideation_clean[\"patientunitstayid\"]))\n",
    "venn3([set1, set2, set3], set_labels = ('previous suicide attempt', 'suicide gesture', \"suicide attemp\"))\n",
    "plt.title(\"Number of Previous Suicide Attempts, Suicide Attempt, Suicide Guesture\", size=18)\n",
    "plt.show()\n",
    "\n",
    "set1 = set(['A', 'B', 'C', 'D'])\n",
    "set2 = set(['B', 'C', 'D', 'E'])\n",
    "set3 = set(['C', 'D',' E', 'F', 'G'])"
   ]
  }
 ],
 "metadata": {
  "kernelspec": {
   "display_name": "Python 2",
   "language": "python",
   "name": "python2"
  },
  "language_info": {
   "codemirror_mode": {
    "name": "ipython",
    "version": 2
   },
   "file_extension": ".py",
   "mimetype": "text/x-python",
   "name": "python",
   "nbconvert_exporter": "python",
   "pygments_lexer": "ipython2",
   "version": "2.7.15"
  }
 },
 "nbformat": 4,
 "nbformat_minor": 2
}
