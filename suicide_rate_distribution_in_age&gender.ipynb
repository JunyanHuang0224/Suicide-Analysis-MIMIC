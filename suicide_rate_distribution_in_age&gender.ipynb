{
 "cells": [
  {
   "cell_type": "code",
   "execution_count": 25,
   "metadata": {},
   "outputs": [],
   "source": [
    "import pandas as pd"
   ]
  },
  {
   "cell_type": "code",
   "execution_count": 26,
   "metadata": {},
   "outputs": [
    {
     "name": "stdout",
     "output_type": "stream",
     "text": [
      "(200859, 29)\n"
     ]
    }
   ],
   "source": [
    "patient = pd.read_csv(\"/home/cs52205/patient.csv.gz\", compression=\"gzip\", header=0)\n",
    "print(patient.shape)"
   ]
  },
  {
   "cell_type": "code",
   "execution_count": 27,
   "metadata": {},
   "outputs": [
    {
     "name": "stdout",
     "output_type": "stream",
     "text": [
      "(1470, 30)\n"
     ]
    }
   ],
   "source": [
    "sui_patient = pd.read_csv(\"sui_patient.csv\", header=0, sep=\",\")\n",
    "print(sui_patient.shape)"
   ]
  },
  {
   "cell_type": "code",
   "execution_count": 28,
   "metadata": {},
   "outputs": [
    {
     "name": "stdout",
     "output_type": "stream",
     "text": [
      "(199389, 30)\n"
     ]
    }
   ],
   "source": [
    "not_sui_patient = pd.read_csv(\"not_sui_patient.csv\", header=0, sep=\",\")\n",
    "print(not_sui_patient.shape)"
   ]
  },
  {
   "cell_type": "code",
   "execution_count": 33,
   "metadata": {},
   "outputs": [
    {
     "name": "stdout",
     "output_type": "stream",
     "text": [
      "   Unnamed: 0  patientunitstayid  patienthealthsystemstayid  gender age  \\\n",
      "0         298             143389                     130639    Male  65   \n",
      "1         524             144741                     131677  Female  64   \n",
      "2         738             146060                     132704  Female  18   \n",
      "3         803             146486                     133034  Female  45   \n",
      "4         904             147041                     133460  Female  38   \n",
      "\n",
      "   ethnicity  hospitalid  wardid  \\\n",
      "0  Caucasian          66      90   \n",
      "1  Caucasian          66      90   \n",
      "2  Caucasian          69      98   \n",
      "3  Caucasian          73      85   \n",
      "4  Caucasian          61     120   \n",
      "\n",
      "                                                                                                              apacheadmissiondx  \\\n",
      "0  Coma/change in level of consciousness (for hepatic see GI, for diabetic see Endocrine, if related to cardiac arrest, see CV)   \n",
      "1                                                               Overdose, sedatives, hypnotics, antipsychotics, benzodiazepines   \n",
      "2                                                                                   Overdose, antidepressants (cyclic, lithium)   \n",
      "3                                                                      Overdose, alcohols (bethanol, methanol, ethylene glycol)   \n",
      "4                                                                                   Overdose, antidepressants (cyclic, lithium)   \n",
      "\n",
      "   admissionheight hospitaladmittime24  hospitaladmitoffset  \\\n",
      "0            182.9            04:14:00                    0   \n",
      "1            167.6            03:11:00                   -1   \n",
      "2            160.0            07:31:00                 -419   \n",
      "3            172.7            20:18:00                   -9   \n",
      "4            152.4            06:19:00                   -7   \n",
      "\n",
      "    hospitaladmitsource  hospitaldischargeyear hospitaldischargetime24  \\\n",
      "0  Emergency Department                   2014                23:13:00   \n",
      "1  Emergency Department                   2014                15:30:00   \n",
      "2  Emergency Department                   2014                14:30:00   \n",
      "3  Emergency Department                   2014                22:46:00   \n",
      "4  Emergency Department                   2014                17:55:00   \n",
      "\n",
      "   hospitaldischargeoffset hospitaldischargelocation hospitaldischargestatus  \\\n",
      "0                     5459            Other Hospital                   Alive   \n",
      "1                     3618                      Home                   Alive   \n",
      "2                     1440                      Home                   Alive   \n",
      "3                     1579  Skilled Nursing Facility                   Alive   \n",
      "4                     2129                      Home                   Alive   \n",
      "\n",
      "       unittype unitadmittime24       unitadmitsource  unitvisitnumber  \\\n",
      "0  Med-Surg ICU        04:14:00  Emergency Department                1   \n",
      "1  Med-Surg ICU        03:12:00  Emergency Department                1   \n",
      "2  Med-Surg ICU        14:30:00  Emergency Department                1   \n",
      "3          SICU        20:27:00  Emergency Department                1   \n",
      "4  Med-Surg ICU        06:26:00  Emergency Department                1   \n",
      "\n",
      "  unitstaytype  admissionweight  dischargeweight unitdischargetime24  \\\n",
      "0        admit              NaN            130.4            23:20:00   \n",
      "1        admit              NaN             77.2            20:26:00   \n",
      "2        admit              NaN            115.3            13:30:00   \n",
      "3        admit             68.0             71.8            22:44:00   \n",
      "4        admit              NaN             71.7            15:16:00   \n",
      "\n",
      "   unitdischargeoffset unitdischargelocation unitdischargestatus  uniquepid  \n",
      "0                 2586                 Floor               Alive  002-73583  \n",
      "1                 2474                 Floor               Alive  002-46238  \n",
      "2                 1380                  Home               Alive  002-13141  \n",
      "3                 1577        Other Hospital               Alive  002-75199  \n",
      "4                 1970                 Floor               Alive  002-42697  \n"
     ]
    }
   ],
   "source": [
    "pd.set_option('max_colwidth',1000)\n",
    "print(sui_patient.head())"
   ]
  },
  {
   "cell_type": "code",
   "execution_count": 14,
   "metadata": {},
   "outputs": [],
   "source": [
    "import matplotlib.pyplot as plt\n",
    "gender = list(sui_patient[\"gender\"])"
   ]
  },
  {
   "cell_type": "code",
   "execution_count": 15,
   "metadata": {},
   "outputs": [],
   "source": [
    "#print(gender)\n",
    "def count_gender(gender_list):\n",
    "    gender_counter = {}\n",
    "    for gender in gender_list:\n",
    "        if gender in gender_counter.keys():\n",
    "            gender_counter[gender]+=1\n",
    "        else:\n",
    "            gender_counter[gender]=1\n",
    "    return gender_counter\n",
    "            "
   ]
  },
  {
   "cell_type": "code",
   "execution_count": 16,
   "metadata": {},
   "outputs": [
    {
     "name": "stdout",
     "output_type": "stream",
     "text": [
      "{nan: 1, 'Unknown': 1, 'Male': 640, 'Female': 828}\n"
     ]
    }
   ],
   "source": [
    "gender_dict = count_gender(gender)\n",
    "print(gender_dict)"
   ]
  },
  {
   "cell_type": "code",
   "execution_count": 35,
   "metadata": {},
   "outputs": [
    {
     "data": {
      "image/png": "[encoded data removed]",
      "text/plain": [
       "<Figure size 432x288 with 1 Axes>"
      ]
     },
     "metadata": {},
     "output_type": "display_data"
    }
   ],
   "source": [
    "plt.bar(range(len(gender_dict)), list(gender_dict.values()), align='center')\n",
    "plt.title('Gender Distribution in the suicide records')\n",
    "plt.xticks(range(len(gender_dict)), list(gender_dict.keys()))\n",
    "plt.show()"
   ]
  },
  {
   "cell_type": "markdown",
   "metadata": {},
   "source": [
    "The bar plot shows there are more women commited suicide than men."
   ]
  },
  {
   "cell_type": "code",
   "execution_count": 18,
   "metadata": {},
   "outputs": [
    {
     "data": {
      "text/plain": [
       "Unnamed: 0                     int64\n",
       "patientunitstayid              int64\n",
       "patienthealthsystemstayid      int64\n",
       "gender                        object\n",
       "age                           object\n",
       "ethnicity                     object\n",
       "hospitalid                     int64\n",
       "wardid                         int64\n",
       "apacheadmissiondx             object\n",
       "admissionheight              float64\n",
       "hospitaladmittime24           object\n",
       "hospitaladmitoffset            int64\n",
       "hospitaladmitsource           object\n",
       "hospitaldischargeyear          int64\n",
       "hospitaldischargetime24       object\n",
       "hospitaldischargeoffset        int64\n",
       "hospitaldischargelocation     object\n",
       "hospitaldischargestatus       object\n",
       "unittype                      object\n",
       "unitadmittime24               object\n",
       "unitadmitsource               object\n",
       "unitvisitnumber                int64\n",
       "unitstaytype                  object\n",
       "admissionweight              float64\n",
       "dischargeweight              float64\n",
       "unitdischargetime24           object\n",
       "unitdischargeoffset            int64\n",
       "unitdischargelocation         object\n",
       "unitdischargestatus           object\n",
       "uniquepid                     object\n",
       "dtype: object"
      ]
     },
     "execution_count": 18,
     "metadata": {},
     "output_type": "execute_result"
    }
   ],
   "source": [
    "sui_patient.dtypes"
   ]
  },
  {
   "cell_type": "code",
   "execution_count": 19,
   "metadata": {},
   "outputs": [],
   "source": [
    "import numpy as np\n",
    "age = np.array(sui_patient[\"age\"])\n",
    "age = list(age.astype(int))\n",
    "#print(age)"
   ]
  },
  {
   "cell_type": "code",
   "execution_count": 20,
   "metadata": {},
   "outputs": [
    {
     "name": "stdout",
     "output_type": "stream",
     "text": [
      "1465\n"
     ]
    }
   ],
   "source": [
    "for num in age:\n",
    "    if num <0:\n",
    "        age.remove(num)\n",
    "    elif num > 120:\n",
    "        age.remove(num)\n",
    "        \n",
    "print(len(age))"
   ]
  },
  {
   "cell_type": "code",
   "execution_count": 34,
   "metadata": {},
   "outputs": [
    {
     "data": {
      "image/png": "[encoded data removed]",
      "text/plain": [
       "<Figure size 432x288 with 1 Axes>"
      ]
     },
     "metadata": {},
     "output_type": "display_data"
    }
   ],
   "source": [
    "plt.hist(age, bins=\"auto\", edgecolor=\"black\")\n",
    "plt.title(\"Age Distibution in Suicide Records\")\n",
    "plt.show()"
   ]
  },
  {
   "cell_type": "markdown",
   "metadata": {},
   "source": [
    "The histagram shows that the age of people who commited suicide is mostly ranged from 20 -55. From aged 50 to older, the suicide number goes down rapidly. People aged 35 to 38 have the highest rate of committing suicide."
   ]
  }
 ],
 "metadata": {
  "kernelspec": {
   "display_name": "Python 2",
   "language": "python",
   "name": "python2"
  },
  "language_info": {
   "codemirror_mode": {
    "name": "ipython",
    "version": 2
   },
   "file_extension": ".py",
   "mimetype": "text/x-python",
   "name": "python",
   "nbconvert_exporter": "python",
   "pygments_lexer": "ipython2",
   "version": "2.7.15"
  }
 },
 "nbformat": 4,
 "nbformat_minor": 2
}
