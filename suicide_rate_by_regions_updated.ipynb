{
 "cells": [
  {
   "cell_type": "markdown",
   "metadata": {},
   "source": [
    "<h1><center> Suicide Rate Distribution by Regions</center></h1> \n",
    "__<div style=\"text-align: right\"> Junyan Huang</div>__\n",
    "__<div style=\"text-align: right\"> Oct 2, 2018 WEEK 5</div>__"
   ]
  },
  {
   "cell_type": "markdown",
   "metadata": {},
   "source": [
    "## Introdution\n",
    "This project is to find out the suicide rate distribution among the regions. In order to do so, I will firstly merge the needed  columns from the suicide tables and create a new table for the suicide records. The same method will be used to create a new table for the overall records (the records include suicide and non suicide). Then I will calculate the suicide rate and finally plot the result."
   ]
  },
  {
   "cell_type": "markdown",
   "metadata": {},
   "source": [
    "## Merge needed columns from suicide tables"
   ]
  },
  {
   "cell_type": "markdown",
   "metadata": {},
   "source": [
    "In the section, I will merge patientunitstayid and hospitalid from the sui_patient table with hospitalid and region from the sui_hospital table. I will take each patientunitstayid as one suicide record. One patient may have multiple patientunitstayid, but this issue will be not addressed in this project. The new dataframe will consist of the suicide record and its belonging region."
   ]
  },
  {
   "cell_type": "code",
   "execution_count": 3,
   "metadata": {},
   "outputs": [],
   "source": [
    "import pandas as pd"
   ]
  },
  {
   "cell_type": "code",
   "execution_count": 4,
   "metadata": {},
   "outputs": [
    {
     "name": "stdout",
     "output_type": "stream",
     "text": [
      "   Unnamed: 0  hospitalid numbedscategory teachingstatus   region\n",
      "0           0          56            <100              f  Midwest\n",
      "1           1          58       100 - 249              f  Midwest\n",
      "2           3          60            <100              f  Midwest\n",
      "3           4          61            <100              f  Midwest\n",
      "4           5          63       100 - 249              f  Midwest\n"
     ]
    }
   ],
   "source": [
    "sui_hospital = pd.read_csv(\"sui_hospital.csv\", header=0)\n",
    "print(sui_hospital.head())"
   ]
  },
  {
   "cell_type": "code",
   "execution_count": 5,
   "metadata": {},
   "outputs": [
    {
     "name": "stdout",
     "output_type": "stream",
     "text": [
      "(1470, 30)\n"
     ]
    }
   ],
   "source": [
    "sui_patient = pd.read_csv(\"sui_patient.csv\", header=0)\n",
    "print(sui_patient.shape)"
   ]
  },
  {
   "cell_type": "code",
   "execution_count": 194,
   "metadata": {},
   "outputs": [],
   "source": [
    "sui_records = sui_patient[[\"patientunitstayid\", \"hospitalid\"]].copy()"
   ]
  },
  {
   "cell_type": "code",
   "execution_count": 195,
   "metadata": {},
   "outputs": [],
   "source": [
    "sui_records = sui_records.sort_values(by=['hospitalid'])"
   ]
  },
  {
   "cell_type": "code",
   "execution_count": 196,
   "metadata": {},
   "outputs": [],
   "source": [
    "sui_records =sui_records.reset_index(drop=True)"
   ]
  },
  {
   "cell_type": "code",
   "execution_count": 197,
   "metadata": {},
   "outputs": [
    {
     "name": "stdout",
     "output_type": "stream",
     "text": [
      "    patientunitstayid  hospitalid\n",
      "0              226807          56\n",
      "1              225353          56\n",
      "2              208143          56\n",
      "3              183218          58\n",
      "4              237979          58\n",
      "5              233012          58\n",
      "6              177604          58\n",
      "7              174608          58\n",
      "8              230259          58\n",
      "9              227942          58\n",
      "10             220970          58\n",
      "11             216152          58\n",
      "12             206297          58\n",
      "13             206849          58\n",
      "14             197254          60\n",
      "15             204099          60\n",
      "16             211262          60\n",
      "17             185920          60\n",
      "18             160313          60\n",
      "19             163527          60\n"
     ]
    }
   ],
   "source": [
    "print(sui_records.head(20))"
   ]
  },
  {
   "cell_type": "code",
   "execution_count": 198,
   "metadata": {},
   "outputs": [
    {
     "name": "stdout",
     "output_type": "stream",
     "text": [
      "<class 'pandas.core.frame.DataFrame'>\n"
     ]
    }
   ],
   "source": [
    "print(type(sui_records))"
   ]
  },
  {
   "cell_type": "code",
   "execution_count": 199,
   "metadata": {},
   "outputs": [
    {
     "name": "stdout",
     "output_type": "stream",
     "text": [
      "(1470, 2)\n"
     ]
    }
   ],
   "source": [
    "print(sui_records.shape)"
   ]
  },
  {
   "cell_type": "code",
   "execution_count": 200,
   "metadata": {},
   "outputs": [],
   "source": [
    "hospital_region = sui_hospital[[\"hospitalid\", \"region\"]].copy()"
   ]
  },
  {
   "cell_type": "code",
   "execution_count": 201,
   "metadata": {},
   "outputs": [
    {
     "name": "stdout",
     "output_type": "stream",
     "text": [
      "    hospitalid   region\n",
      "0           56  Midwest\n",
      "1           58  Midwest\n",
      "2           60  Midwest\n",
      "3           61  Midwest\n",
      "4           63  Midwest\n",
      "5           66  Midwest\n",
      "6           67  Midwest\n",
      "7           68  Midwest\n",
      "8           69  Midwest\n",
      "9           71  Midwest\n",
      "10          73  Midwest\n",
      "11          79  Midwest\n",
      "12          90  Midwest\n",
      "13          92  Midwest\n",
      "14          95  Midwest\n",
      "15          96      NaN\n",
      "16         102      NaN\n",
      "17         108  Midwest\n",
      "18         110    South\n",
      "19         112    South\n"
     ]
    }
   ],
   "source": [
    "print(hospital_region.head(20))"
   ]
  },
  {
   "cell_type": "code",
   "execution_count": 202,
   "metadata": {},
   "outputs": [
    {
     "name": "stdout",
     "output_type": "stream",
     "text": [
      "<class 'pandas.core.frame.DataFrame'>\n"
     ]
    }
   ],
   "source": [
    "print(type(hospital_region))"
   ]
  },
  {
   "cell_type": "code",
   "execution_count": 203,
   "metadata": {},
   "outputs": [],
   "source": [
    "sui_region = sui_records.merge(hospital_region, how='outer')"
   ]
  },
  {
   "cell_type": "code",
   "execution_count": 204,
   "metadata": {},
   "outputs": [
    {
     "name": "stdout",
     "output_type": "stream",
     "text": [
      "    patientunitstayid  hospitalid   region\n",
      "0              226807          56  Midwest\n",
      "1              225353          56  Midwest\n",
      "2              208143          56  Midwest\n",
      "3              183218          58  Midwest\n",
      "4              237979          58  Midwest\n",
      "5              233012          58  Midwest\n",
      "6              177604          58  Midwest\n",
      "7              174608          58  Midwest\n",
      "8              230259          58  Midwest\n",
      "9              227942          58  Midwest\n",
      "10             220970          58  Midwest\n",
      "11             216152          58  Midwest\n",
      "12             206297          58  Midwest\n",
      "13             206849          58  Midwest\n",
      "14             197254          60  Midwest\n",
      "15             204099          60  Midwest\n",
      "16             211262          60  Midwest\n",
      "17             185920          60  Midwest\n",
      "18             160313          60  Midwest\n",
      "19             163527          60  Midwest\n"
     ]
    }
   ],
   "source": [
    "print(sui_region.head(20))"
   ]
  },
  {
   "cell_type": "code",
   "execution_count": 205,
   "metadata": {},
   "outputs": [
    {
     "name": "stdout",
     "output_type": "stream",
     "text": [
      "(1470, 3)\n"
     ]
    }
   ],
   "source": [
    "print(sui_region.shape)"
   ]
  },
  {
   "cell_type": "markdown",
   "metadata": {},
   "source": [
    "The new table called sui_region has been successful merged. Each observation is a suicide record and has the region indicating where this suicide record belongs to. "
   ]
  },
  {
   "cell_type": "markdown",
   "metadata": {},
   "source": [
    "## Merge the needed columns from the overall tables"
   ]
  },
  {
   "cell_type": "markdown",
   "metadata": {},
   "source": [
    "This section is to create a new table for the overall records (include suicide and non suicide). The same method as in the previous section will be used."
   ]
  },
  {
   "cell_type": "code",
   "execution_count": 206,
   "metadata": {},
   "outputs": [],
   "source": [
    "patient = pd.read_csv(\"/home/cs52205/patient.csv.gz\", compression=\"gzip\", header=0, sep=\",\")"
   ]
  },
  {
   "cell_type": "code",
   "execution_count": 207,
   "metadata": {},
   "outputs": [
    {
     "name": "stdout",
     "output_type": "stream",
     "text": [
      "(200859, 29)\n"
     ]
    }
   ],
   "source": [
    "print(patient.shape)"
   ]
  },
  {
   "cell_type": "code",
   "execution_count": 208,
   "metadata": {},
   "outputs": [],
   "source": [
    "hospital = pd.read_csv(\"/home/cs52205/hospital.csv.gz\", compression=\"gzip\", header=0, sep=\",\")"
   ]
  },
  {
   "cell_type": "code",
   "execution_count": 209,
   "metadata": {},
   "outputs": [
    {
     "name": "stdout",
     "output_type": "stream",
     "text": [
      "   hospitalid numbedscategory teachingstatus   region\n",
      "0          56            <100              f  Midwest\n",
      "1          58       100 - 249              f  Midwest\n",
      "2          59            <100              f  Midwest\n",
      "3          60            <100              f  Midwest\n",
      "4          61            <100              f  Midwest\n"
     ]
    }
   ],
   "source": [
    "print(hospital.head())"
   ]
  },
  {
   "cell_type": "code",
   "execution_count": 210,
   "metadata": {},
   "outputs": [],
   "source": [
    "hospital_region_overal = hospital[[\"hospitalid\", \"region\"]].copy()"
   ]
  },
  {
   "cell_type": "code",
   "execution_count": 211,
   "metadata": {},
   "outputs": [
    {
     "name": "stdout",
     "output_type": "stream",
     "text": [
      "   hospitalid   region\n",
      "0          56  Midwest\n",
      "1          58  Midwest\n",
      "2          59  Midwest\n",
      "3          60  Midwest\n",
      "4          61  Midwest\n"
     ]
    }
   ],
   "source": [
    "print(hospital_region_overal.head())"
   ]
  },
  {
   "cell_type": "code",
   "execution_count": 212,
   "metadata": {},
   "outputs": [],
   "source": [
    "records_overal = patient[[\"patientunitstayid\", \"hospitalid\"]].copy()"
   ]
  },
  {
   "cell_type": "code",
   "execution_count": 213,
   "metadata": {},
   "outputs": [
    {
     "name": "stdout",
     "output_type": "stream",
     "text": [
      "   patientunitstayid  hospitalid\n",
      "0             141168          59\n",
      "1             141178          60\n",
      "2             141179          60\n",
      "3             141194          73\n",
      "4             141196          67\n",
      "(200859, 2)\n"
     ]
    }
   ],
   "source": [
    "print(records_overal.head())\n",
    "print(records_overal.shape)"
   ]
  },
  {
   "cell_type": "code",
   "execution_count": 214,
   "metadata": {},
   "outputs": [],
   "source": [
    "region_overal = records_overal.merge(hospital_region_overal, how='outer') "
   ]
  },
  {
   "cell_type": "code",
   "execution_count": 215,
   "metadata": {},
   "outputs": [
    {
     "name": "stdout",
     "output_type": "stream",
     "text": [
      "   patientunitstayid  hospitalid   region\n",
      "0             141168          59  Midwest\n",
      "1             141263          59  Midwest\n",
      "2             141264          59  Midwest\n",
      "3             141304          59  Midwest\n",
      "4             141432          59  Midwest\n",
      "(200859, 3)\n"
     ]
    }
   ],
   "source": [
    "print(region_overal.head())\n",
    "print(region_overal.shape)"
   ]
  },
  {
   "cell_type": "markdown",
   "metadata": {},
   "source": [
    "Another new table called region_overal has been created. In the region_overal table, each row is an ICU visit record with its belonging region."
   ]
  },
  {
   "cell_type": "markdown",
   "metadata": {},
   "source": [
    "## Calculate the suicide rate by regions and plot the result"
   ]
  },
  {
   "cell_type": "markdown",
   "metadata": {},
   "source": [
    "In this section, I aim to get three results. The first one is the number of suicide records in each region. The secord one is the number of overall ICU visit records in each region. The third one is the suicide rate in each region."
   ]
  },
  {
   "cell_type": "code",
   "execution_count": 216,
   "metadata": {},
   "outputs": [],
   "source": [
    "import matplotlib.pyplot as plt"
   ]
  },
  {
   "cell_type": "markdown",
   "metadata": {},
   "source": [
    "Check if the sui_region and region_overal have any missing values. If there is, delete them."
   ]
  },
  {
   "cell_type": "code",
   "execution_count": 217,
   "metadata": {},
   "outputs": [
    {
     "data": {
      "text/plain": [
       "patientunitstayid     0\n",
       "hospitalid            0\n",
       "region               83\n",
       "dtype: int64"
      ]
     },
     "execution_count": 217,
     "metadata": {},
     "output_type": "execute_result"
    }
   ],
   "source": [
    "sui_region.isnull().sum()"
   ]
  },
  {
   "cell_type": "code",
   "execution_count": 218,
   "metadata": {},
   "outputs": [],
   "source": [
    "sui_region_clean = sui_region.dropna(how = \"any\")"
   ]
  },
  {
   "cell_type": "code",
   "execution_count": 219,
   "metadata": {},
   "outputs": [
    {
     "data": {
      "text/plain": [
       "patientunitstayid    0\n",
       "hospitalid           0\n",
       "region               0\n",
       "dtype: int64"
      ]
     },
     "execution_count": 219,
     "metadata": {},
     "output_type": "execute_result"
    }
   ],
   "source": [
    "sui_region_clean.isnull().sum()"
   ]
  },
  {
   "cell_type": "code",
   "execution_count": 220,
   "metadata": {},
   "outputs": [
    {
     "data": {
      "text/plain": [
       "patientunitstayid        0\n",
       "hospitalid               0\n",
       "region               13838\n",
       "dtype: int64"
      ]
     },
     "execution_count": 220,
     "metadata": {},
     "output_type": "execute_result"
    }
   ],
   "source": [
    "region_overal.isnull().sum()"
   ]
  },
  {
   "cell_type": "code",
   "execution_count": 221,
   "metadata": {},
   "outputs": [],
   "source": [
    "region_overal_clean = region_overal.dropna(how=\"any\")"
   ]
  },
  {
   "cell_type": "code",
   "execution_count": 222,
   "metadata": {},
   "outputs": [
    {
     "data": {
      "text/plain": [
       "patientunitstayid    0\n",
       "hospitalid           0\n",
       "region               0\n",
       "dtype: int64"
      ]
     },
     "execution_count": 222,
     "metadata": {},
     "output_type": "execute_result"
    }
   ],
   "source": [
    "region_overal_clean.isnull().sum()"
   ]
  },
  {
   "cell_type": "markdown",
   "metadata": {},
   "source": [
    "Create a function to count the number of hospitals and the number of regions"
   ]
  },
  {
   "cell_type": "code",
   "execution_count": 223,
   "metadata": {},
   "outputs": [],
   "source": [
    "def counter(my_list):\n",
    "    my_counter = {}\n",
    "    for item in my_list:\n",
    "        if item in my_counter.keys():\n",
    "            my_counter[item]+=1\n",
    "        else:\n",
    "            my_counter[item]=1\n",
    "    return my_counter\n",
    "            "
   ]
  },
  {
   "cell_type": "code",
   "execution_count": 224,
   "metadata": {},
   "outputs": [
    {
     "name": "stdout",
     "output_type": "stream",
     "text": [
      "<type 'list'>\n"
     ]
    }
   ],
   "source": [
    "sui_region_list = list(sui_region_clean[\"region\"])\n",
    "print(type(sui_region_list))"
   ]
  },
  {
   "cell_type": "code",
   "execution_count": 225,
   "metadata": {},
   "outputs": [
    {
     "name": "stdout",
     "output_type": "stream",
     "text": [
      "{'West': 231, 'Northeast': 145, 'Midwest': 563, 'South': 448}\n"
     ]
    }
   ],
   "source": [
    "count_sui_region = counter(sui_region_list)\n",
    "print(count_sui_region)"
   ]
  },
  {
   "cell_type": "code",
   "execution_count": 226,
   "metadata": {},
   "outputs": [
    {
     "data": {
      "text/plain": [
       "Text(0.5,1,'Suicide Records Distribution among Regions')"
      ]
     },
     "execution_count": 226,
     "metadata": {},
     "output_type": "execute_result"
    },
    {
     "data": {
      "image/png": "[encoded data removed]",
      "text/plain": [
       "<Figure size 432x288 with 1 Axes>"
      ]
     },
     "metadata": {},
     "output_type": "display_data"
    }
   ],
   "source": [
    "plt.bar(range(len(count_sui_region)), list(count_sui_region.values()), align='center', edgecolor=\"grey\", width=0.5,\n",
    "        color=\"lightblue\")\n",
    "plt.xticks(range(len(count_sui_region)), list(count_sui_region.keys()))\n",
    "plt.title(\"Suicide Records Distribution among Regions\")"
   ]
  },
  {
   "cell_type": "markdown",
   "metadata": {},
   "source": [
    "The plot shows that Midwest has the most suicide records, followed by South. West and Northeast has the least. But this is based on the real numbers. The project goal is to find out the suicide rate. Thus the number of total ICU visits should be taken into account."
   ]
  },
  {
   "cell_type": "code",
   "execution_count": 227,
   "metadata": {},
   "outputs": [],
   "source": [
    "region_overal_list = list(region_overal_clean[\"region\"].copy())"
   ]
  },
  {
   "cell_type": "code",
   "execution_count": 228,
   "metadata": {},
   "outputs": [],
   "source": [
    "count_region_overal = counter(region_overal_list)"
   ]
  },
  {
   "cell_type": "code",
   "execution_count": 229,
   "metadata": {},
   "outputs": [
    {
     "name": "stdout",
     "output_type": "stream",
     "text": [
      "{'West': 46348, 'Northeast': 14429, 'Midwest': 65950, 'South': 60294}\n"
     ]
    }
   ],
   "source": [
    "print(count_region_overal)"
   ]
  },
  {
   "cell_type": "code",
   "execution_count": 230,
   "metadata": {},
   "outputs": [
    {
     "data": {
      "text/plain": [
       "Text(0.5,1,'Overall ICU Records Distribution among Regions')"
      ]
     },
     "execution_count": 230,
     "metadata": {},
     "output_type": "execute_result"
    },
    {
     "data": {
      "image/png": "[encoded data removed]",
      "text/plain": [
       "<Figure size 432x288 with 1 Axes>"
      ]
     },
     "metadata": {},
     "output_type": "display_data"
    }
   ],
   "source": [
    "plt.bar(range(len(count_region_overal)), list(count_region_overal.values()), align='center', edgecolor=\"grey\", width=0.5,\n",
    "        color=\"lightblue\")\n",
    "plt.xticks(range(len(count_region_overal)), list(count_region_overal.keys()))\n",
    "plt.title(\"Overall ICU Records Distribution among Regions\")"
   ]
  },
  {
   "cell_type": "markdown",
   "metadata": {},
   "source": [
    " The plot shows the total number of ICU visit records in each region. "
   ]
  },
  {
   "cell_type": "markdown",
   "metadata": {},
   "source": [
    "Create a new table for the suicide region results and the overal region results."
   ]
  },
  {
   "cell_type": "code",
   "execution_count": 231,
   "metadata": {},
   "outputs": [],
   "source": [
    "region_sum = pd.DataFrame({'total of ICU records':pd.Series(count_region_overal),\n",
    "                           'num of suicide records':pd.Series(count_sui_region)})"
   ]
  },
  {
   "cell_type": "code",
   "execution_count": 232,
   "metadata": {},
   "outputs": [
    {
     "name": "stdout",
     "output_type": "stream",
     "text": [
      "           num of suicide records  total of ICU records\n",
      "Midwest                       563                 65950\n",
      "Northeast                     145                 14429\n",
      "South                         448                 60294\n",
      "West                          231                 46348\n"
     ]
    }
   ],
   "source": [
    "print(region_sum)"
   ]
  },
  {
   "cell_type": "code",
   "execution_count": 233,
   "metadata": {},
   "outputs": [],
   "source": [
    "region_sum[\"suicide_rate (%)\"]=(region_sum[\"num of suicide records\"]/region_sum[\"total of ICU records\"]*100).round(4)"
   ]
  },
  {
   "cell_type": "code",
   "execution_count": 234,
   "metadata": {},
   "outputs": [],
   "source": [
    "region_sum = region_sum.reset_index()"
   ]
  },
  {
   "cell_type": "code",
   "execution_count": 235,
   "metadata": {},
   "outputs": [],
   "source": [
    "region_sum.rename(columns={\"index\":\"region\"}, inplace=True)"
   ]
  },
  {
   "cell_type": "code",
   "execution_count": 236,
   "metadata": {},
   "outputs": [
    {
     "name": "stdout",
     "output_type": "stream",
     "text": [
      "      region  num of suicide records  total of ICU records  suicide_rate (%)\n",
      "0    Midwest                     563                 65950            0.8537\n",
      "1  Northeast                     145                 14429            1.0049\n",
      "2      South                     448                 60294            0.7430\n",
      "3       West                     231                 46348            0.4984\n"
     ]
    }
   ],
   "source": [
    "print(region_sum)"
   ]
  },
  {
   "cell_type": "markdown",
   "metadata": {},
   "source": [
    "Calculate the overal suicide rate in the US based on the eICU dataset. This includes rows with nan."
   ]
  },
  {
   "cell_type": "code",
   "execution_count": 237,
   "metadata": {},
   "outputs": [
    {
     "data": {
      "text/plain": [
       "0.0073"
      ]
     },
     "execution_count": 237,
     "metadata": {},
     "output_type": "execute_result"
    }
   ],
   "source": [
    "from __future__ import division\n",
    "overal_sui_rate=round(len(sui_patient.index)/len(patient.index), 4)\n",
    "overal_sui_rate"
   ]
  },
  {
   "cell_type": "markdown",
   "metadata": {},
   "source": [
    "The overal suicide rate in the US based on the eICU database is 0.0073, which is 0.73%."
   ]
  },
  {
   "cell_type": "code",
   "execution_count": 405,
   "metadata": {},
   "outputs": [
    {
     "data": {
      "text/plain": [
       "[None, None, None, None]"
      ]
     },
     "execution_count": 405,
     "metadata": {},
     "output_type": "execute_result"
    },
    {
     "data": {
      "image/png": "[encoded data removed]",
      "text/plain": [
       "<Figure size 432x288 with 1 Axes>"
      ]
     },
     "metadata": {},
     "output_type": "display_data"
    }
   ],
   "source": [
    "fig, ax =plt.subplots()\n",
    "ax.bar(range(len(region_sum[\"suicide_rate (%)\"])), region_sum[\"suicide_rate (%)\"], align='center',color=\"lightblue\", \n",
    "        edgecolor=\"grey\",  width=0.5)\n",
    "ax.plot([-0.5, len(region_sum[\"suicide_rate (%)\"])], [overal_sui_rate*100, overal_sui_rate*100], \"--\", color=\"coral\",\n",
    "        label=\"average suicide rate\")\n",
    "ax.legend()\n",
    "ax.set_facecolor (\"beige\")\n",
    "ax.set_title(\"Suicide Rate among Regions\", fontname='Comic Sans MS', fontsize=18, color=\"black\")\n",
    "plt.xticks(range(len(region_sum[\"region\"])), list(region_sum[\"region\"]), color =\"black\")\n",
    "plt.setp(ax.spines.values(), color=\"lightgrey\")"
   ]
  },
  {
   "cell_type": "markdown",
   "metadata": {},
   "source": [
    "The results shows that the suicide rate in the Northeast is the highest with 1% suicide rate. The Midwest comes the second with 0.8% suicide rate. The South comes the third with 0.74%. The West has the lowest suicide rate.\n",
    "\n",
    "Compared to the average suicide rate, besides the West, all the other three regions exceed the average line. The Northeast and the Midwest have much higher suicide rates than the average level, and the South has a similar suicide rate as the average level, while the West has much lower suicide rate than the average level."
   ]
  },
  {
   "cell_type": "markdown",
   "metadata": {},
   "source": [
    "### Updates\n",
    "Create plots that show the suicide ICU records in each hospital which is labelled with a color to indicate its belonging region."
   ]
  },
  {
   "cell_type": "code",
   "execution_count": 243,
   "metadata": {},
   "outputs": [],
   "source": [
    "sui_hospital_list = list(sui_region_clean[\"hospitalid\"].copy())\n",
    "#print(sui_hospital_list)"
   ]
  },
  {
   "cell_type": "code",
   "execution_count": 285,
   "metadata": {},
   "outputs": [],
   "source": [
    "count_sui_hospital = counter(sui_hospital_list)\n",
    "#type(count_sui_hospital.keys())"
   ]
  },
  {
   "cell_type": "code",
   "execution_count": 337,
   "metadata": {},
   "outputs": [
    {
     "data": {
      "text/html": [
       "<div>\n",
       "<style scoped>\n",
       "    .dataframe tbody tr th:only-of-type {\n",
       "        vertical-align: middle;\n",
       "    }\n",
       "\n",
       "    .dataframe tbody tr th {\n",
       "        vertical-align: top;\n",
       "    }\n",
       "\n",
       "    .dataframe thead th {\n",
       "        text-align: right;\n",
       "    }\n",
       "</style>\n",
       "<table border=\"1\" class=\"dataframe\">\n",
       "  <thead>\n",
       "    <tr style=\"text-align: right;\">\n",
       "      <th></th>\n",
       "      <th>Hospital_ID</th>\n",
       "      <th>Region</th>\n",
       "    </tr>\n",
       "  </thead>\n",
       "  <tbody>\n",
       "    <tr>\n",
       "      <th>0</th>\n",
       "      <td>56</td>\n",
       "      <td>Midwest</td>\n",
       "    </tr>\n",
       "    <tr>\n",
       "      <th>3</th>\n",
       "      <td>58</td>\n",
       "      <td>Midwest</td>\n",
       "    </tr>\n",
       "    <tr>\n",
       "      <th>14</th>\n",
       "      <td>60</td>\n",
       "      <td>Midwest</td>\n",
       "    </tr>\n",
       "    <tr>\n",
       "      <th>20</th>\n",
       "      <td>61</td>\n",
       "      <td>Midwest</td>\n",
       "    </tr>\n",
       "    <tr>\n",
       "      <th>21</th>\n",
       "      <td>63</td>\n",
       "      <td>Midwest</td>\n",
       "    </tr>\n",
       "  </tbody>\n",
       "</table>\n",
       "</div>"
      ],
      "text/plain": [
       "    Hospital_ID   Region\n",
       "0            56  Midwest\n",
       "3            58  Midwest\n",
       "14           60  Midwest\n",
       "20           61  Midwest\n",
       "21           63  Midwest"
      ]
     },
     "execution_count": 337,
     "metadata": {},
     "output_type": "execute_result"
    }
   ],
   "source": [
    "region_by_hospital = sui_region_clean.loc[:, [\"hospitalid\", \"region\"]].drop_duplicates(\n",
    "    subset=['hospitalid', 'region']).rename(columns = {'hospitalid':'Hospital_ID', \"region\":\"Region\"})\n",
    "region_by_hospital.head()"
   ]
  },
  {
   "cell_type": "code",
   "execution_count": 533,
   "metadata": {},
   "outputs": [],
   "source": [
    "hospital_sum1 = pd.DataFrame({\"Number_of_Suicide_Records\": pd.Series(count_sui_hospital)}).reset_index().rename(columns = \n",
    "                                                                                                     {'index':'Hospital_ID'})\n",
    "\n",
    "hospital_sum = pd.merge(hospital_sum1, region_by_hospital, how=\"left\")\n",
    "#hospital_sum"
   ]
  },
  {
   "cell_type": "code",
   "execution_count": 528,
   "metadata": {},
   "outputs": [
    {
     "data": {
      "image/png": "[encoded data removed]",
      "text/plain": [
       "<Figure size 432x288 with 1 Axes>"
      ]
     },
     "metadata": {},
     "output_type": "display_data"
    },
    {
     "data": {
      "image/png": "[encoded data removed]",
      "text/plain": [
       "<Figure size 432x288 with 1 Axes>"
      ]
     },
     "metadata": {},
     "output_type": "display_data"
    },
    {
     "data": {
      "image/png": "[encoded data removed]",
      "text/plain": [
       "<Figure size 432x288 with 1 Axes>"
      ]
     },
     "metadata": {},
     "output_type": "display_data"
    },
    {
     "data": {
      "image/png": "[encoded data removed]",
      "text/plain": [
       "<Figure size 432x288 with 1 Axes>"
      ]
     },
     "metadata": {},
     "output_type": "display_data"
    }
   ],
   "source": [
    "hospital_sum.loc[hospital_sum[\"Region\"]==\"West\"].plot.bar(x=\"Hospital_ID\", y=\"Number_of_Suicide_Records\", color=\"green\")\n",
    "plt.xticks([])\n",
    "plt.title(\"Number of Suicide Records in Hospitals of the West\")\n",
    "hospital_sum.loc[hospital_sum[\"Region\"]==\"Northeast\"].plot.bar(x=\"Hospital_ID\", y=\"Number_of_Suicide_Records\", color=\"Red\")\n",
    "plt.xticks([])\n",
    "plt.title(\"Number of Suicide Records in Hospitals of the Northeast\")\n",
    "hospital_sum.loc[hospital_sum[\"Region\"]==\"Midwest\"].plot.bar(x=\"Hospital_ID\", y=\"Number_of_Suicide_Records\", \n",
    "                                                            color=\"lightblue\")\n",
    "plt.xticks([])\n",
    "plt.title(\"Number of Suicide Records in Hospitals of the Midwest\")\n",
    "hospital_sum.loc[hospital_sum[\"Region\"]==\"South\"].plot.bar(x=\"Hospital_ID\", y=\"Number_of_Suicide_Records\", color=\"purple\")\n",
    "plt.xticks([])\n",
    "plt.title(\"Number of Suicide Records in Hospitals of the South\")\n",
    "plt.show()"
   ]
  },
  {
   "cell_type": "markdown",
   "metadata": {},
   "source": [
    "The plots show that the number of suicide records in the hospitals varies. This applys to all regions."
   ]
  },
  {
   "cell_type": "markdown",
   "metadata": {},
   "source": [
    "The dataframe hospital_sum has hospital ID, the number of suicide records in that hospital and the belonging region of that hospital."
   ]
  },
  {
   "cell_type": "code",
   "execution_count": 531,
   "metadata": {},
   "outputs": [
    {
     "data": {
      "image/png": "[encoded data removed]",
      "text/plain": [
       "<Figure size 432x288 with 1 Axes>"
      ]
     },
     "metadata": {},
     "output_type": "display_data"
    },
    {
     "data": {
      "image/png": "[encoded data removed]",
      "text/plain": [
       "<Figure size 432x288 with 1 Axes>"
      ]
     },
     "metadata": {},
     "output_type": "display_data"
    }
   ],
   "source": [
    "groups = hospital_sum.groupby(\"Region\")\n",
    "fig, ax1 = plt.subplots()\n",
    "for name, group in groups:\n",
    "    ax1.plot(group.Hospital_ID, group.Number_of_Suicide_Records, marker='o', linestyle='', ms=5, label=name)\n",
    "ax1.legend(loc=\"upper right\", bbox_to_anchor=(1.3, 1))\n",
    "ax1.set_title(\"Number of Suicide Records by Hospital and Region\")\n",
    "+36#x1.set_xlim([50, 490])\n",
    "ax1.set_ylim([20, 60])\n",
    "ax1.set_facecolor(\"beige\")\n",
    "#ax1.get_xaxis().set_visible(False)\n",
    "\n",
    "fig, ax2 = plt.subplots()\n",
    "for name, group in groups:\n",
    "    ax2.plot(group.Hospital_ID, group.Number_of_Suicide_Records, marker='o', linestyle='', ms=5, label=name)\n",
    "#ax2.legend(loc=\"upper right\", bbox_to_anchor=(1.3, 1))\n",
    "#ax2.set_xlim([50, 490])\n",
    "ax2.set_ylim([0, 20])\n",
    "ax2.set_facecolor(\"beige\")\n",
    "\n",
    "plt.show()"
   ]
  },
  {
   "cell_type": "markdown",
   "metadata": {},
   "source": [
    "Most hospitals have less than 10 suicide admission records. Some have more than 20 records."
   ]
  }
 ],
 "metadata": {
  "kernelspec": {
   "display_name": "Python 2",
   "language": "python",
   "name": "python2"
  },
  "language_info": {
   "codemirror_mode": {
    "name": "ipython",
    "version": 2
   },
   "file_extension": ".py",
   "mimetype": "text/x-python",
   "name": "python",
   "nbconvert_exporter": "python",
   "pygments_lexer": "ipython2",
   "version": "2.7.15"
  }
 },
 "nbformat": 4,
 "nbformat_minor": 2
}
