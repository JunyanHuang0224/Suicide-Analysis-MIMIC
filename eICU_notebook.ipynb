{
 "cells": [
  {
   "cell_type": "markdown",
   "metadata": {},
   "source": [
    "# CS 599D Data Science Study Report\n",
    "## Week 3"
   ]
  },
  {
   "cell_type": "markdown",
   "metadata": {},
   "source": [
    "This week I studied the chapter three. It introduces the package mayplotlib and some useful plots for data visualizaion. I applied the plotting techniques to the patient dataset and visualized the gender distribution among patients and the age distirbution group by gender. Besides, I examined other several datasets and checked their basic information."
   ]
  },
  {
   "cell_type": "markdown",
   "metadata": {},
   "source": [
    "### The first cell extracts all the 31 datasets."
   ]
  },
  {
   "cell_type": "code",
   "execution_count": 2,
   "metadata": {},
   "outputs": [],
   "source": [
    "# Built-in modules\n",
    "import re\n",
    "\n",
    "# Third-party modules\n",
    "from bs4 import BeautifulSoup\n",
    "import pandas as pd\n",
    "import requests\n",
    "from requests.auth import HTTPBasicAuth\n",
    "\n",
    "WEB_LINK = 'https://physionet.org/works/eICUCollaborativeResearchDatabase/files/'\n",
    "USERNAME = 'jh26@hood.edu'\n",
    "PASSWORD = '201661Emma!'\n",
    "\n",
    "def auth_get(url, stream=False):\n",
    "    return requests.get(url, auth=HTTPBasicAuth(USERNAME, PASSWORD), stream=stream)\n",
    "\n",
    "def get_links_from_webpage():\n",
    "    # Parses links from HTML\n",
    "    resp = auth_get(WEB_LINK)\n",
    "    soup = BeautifulSoup(resp.text, \"html.parser\")\n",
    "\n",
    "    # Gets list of links\n",
    "    links = []\n",
    "    for link in soup.find_all('a', text=re.compile('gz')):\n",
    "        links.append(WEB_LINK + link['href'])\n",
    "\n",
    "    return links\n",
    "\n",
    "def extract_data(file_link):\n",
    "    resp = auth_get(file_link, stream=True)\n",
    "    return pd.read_csv(resp.raw, compression='gzip', error_bad_lines=False)\n"
   ]
  },
  {
   "cell_type": "markdown",
   "metadata": {},
   "source": [
    "Refer to the link below for the introduction of each dataset and their mega data."
   ]
  },
  {
   "cell_type": "markdown",
   "metadata": {},
   "source": [
    "__[Introduction to the Datasets](https://eicu-crd.mit.edu/eicutables/admissiondrug/)__"
   ]
  },
  {
   "cell_type": "markdown",
   "metadata": {},
   "source": [
    "### This cell extract the dataset of admissionDrug.csv.gz\n",
    "\n",
    "Purpose: admissionDrug contains details of medications that a patient was taking prior to admission to the ICU. This table includes admission drug information for a patient such as the drug name, dosage, timeframe during which the drug was administered, the user type and specialty of the clinician entering the data, and the note type where the information was entered."
   ]
  },
  {
   "cell_type": "code",
   "execution_count": 7,
   "metadata": {},
   "outputs": [
    {
     "name": "stdout",
     "output_type": "stream",
     "text": [
      "   admissiondrugid  patientunitstayid  drugoffset  drugenteredoffset  \\\n",
      "0          1589228             242954          64                 79   \n",
      "1          2063596             243285          29                 39   \n",
      "2          2063595             243285          29                 39   \n",
      "3          2063590             243285          29                 39   \n",
      "4          2063594             243285          29                 39   \n",
      "\n",
      "  drugnotetype specialtytype   usertype  rxincluded  writtenineicu  \\\n",
      "0    Admission   eCM Primary  THC Nurse        True           True   \n",
      "1    Admission   eCM Primary  THC Nurse       False           True   \n",
      "2    Admission   eCM Primary  THC Nurse       False           True   \n",
      "3    Admission   eCM Primary  THC Nurse       False           True   \n",
      "4    Admission   eCM Primary  THC Nurse       False           True   \n",
      "\n",
      "                                            drugname  drugdosage drugunit  \\\n",
      "0  ELIQUIS                                       ...         NaN      NaN   \n",
      "1  VICTOZA 2-PAK                                 ...         NaN      NaN   \n",
      "2  POTASSIUM CHLORIDE                            ...         NaN      NaN   \n",
      "3  CITALOPRAM HBR                                ...         NaN      NaN   \n",
      "4  OMEPRAZOLE                                    ...         NaN      NaN   \n",
      "\n",
      "  drugadmitfrequency  drughiclseqno  \n",
      "0                NaN          37792  \n",
      "1                NaN          36436  \n",
      "2                NaN            549  \n",
      "3                NaN          10321  \n",
      "4                NaN           4673  \n",
      "(874920, 14)\n"
     ]
    }
   ],
   "source": [
    "import numpy as np\n",
    "# fill the missing values with na \n",
    "adDrug_df.replace(r\" \", np.NaN, inplace=True)\n",
    "adDrug_df[\"drugdosage\"].replace(0, np.NaN, inplace=True)\n",
    "print(adDrug_df.head())\n",
    "print(adDrug_df.shape)"
   ]
  },
  {
   "cell_type": "code",
   "execution_count": 96,
   "metadata": {},
   "outputs": [
    {
     "name": "stdout",
     "output_type": "stream",
     "text": [
      "   admissiondrugid  patientunitstayid  drugoffset  drugenteredoffset  \\\n",
      "0          1589228             242954          64                 79   \n",
      "1          2063596             243285          29                 39   \n",
      "2          2063595             243285          29                 39   \n",
      "3          2063590             243285          29                 39   \n",
      "4          2063594             243285          29                 39   \n",
      "\n",
      "  drugnotetype specialtytype   usertype  rxincluded  writtenineicu  \\\n",
      "0    Admission   eCM Primary  THC Nurse        True           True   \n",
      "1    Admission   eCM Primary  THC Nurse       False           True   \n",
      "2    Admission   eCM Primary  THC Nurse       False           True   \n",
      "3    Admission   eCM Primary  THC Nurse       False           True   \n",
      "4    Admission   eCM Primary  THC Nurse       False           True   \n",
      "\n",
      "                                                                                                                                                                                                                                                          drugname  \\\n",
      "0  ELIQUIS                                                                                                                                                                                                                                                           \n",
      "1  VICTOZA 2-PAK                                                                                                                                                                                                                                                     \n",
      "2  POTASSIUM CHLORIDE                                                                                                                                                                                                                                                \n",
      "3  CITALOPRAM HBR                                                                                                                                                                                                                                                    \n",
      "4  OMEPRAZOLE                                                                                                                                                                                                                                                        \n",
      "\n",
      "   drugdosage drugunit drugadmitfrequency  drughiclseqno  \n",
      "0         0.0                                      37792  \n",
      "1         0.0                                      36436  \n",
      "2         0.0                                        549  \n",
      "3         0.0                                      10321  \n",
      "4         0.0                                       4673  \n"
     ]
    }
   ],
   "source": [
    "links = get_links_from_webpage()\n",
    "adDrug_df= extract_data(links[0])\n",
    "pd.set_option(\"display.max_colwidth\", 600)\n",
    "print(adDrug_df.head())"
   ]
  },
  {
   "cell_type": "code",
   "execution_count": 8,
   "metadata": {},
   "outputs": [
    {
     "name": "stdout",
     "output_type": "stream",
     "text": [
      "admissiondrugid            0\n",
      "patientunitstayid          0\n",
      "drugoffset                 0\n",
      "drugenteredoffset          0\n",
      "drugnotetype               0\n",
      "specialtytype              0\n",
      "usertype                   0\n",
      "rxincluded                 0\n",
      "writtenineicu              0\n",
      "drugname                   0\n",
      "drugdosage            635248\n",
      "drugunit              636559\n",
      "drugadmitfrequency    638951\n",
      "drughiclseqno              0\n",
      "dtype: int64\n"
     ]
    }
   ],
   "source": [
    "print(adDrug_df.isnull().sum())"
   ]
  },
  {
   "cell_type": "markdown",
   "metadata": {},
   "source": [
    "From the above outputs, we can see in the admissionDrug dataset, the columns drugdosage, drugunit and drugadmitfrequency are most missing values. There are 874,920 rows and 14 columns."
   ]
  },
  {
   "cell_type": "markdown",
   "metadata": {},
   "source": [
    "### This cell extracts the dataset of admissionDx.csv.gz"
   ]
  },
  {
   "cell_type": "markdown",
   "metadata": {},
   "source": [
    "Purpose: The admissiondx table contains the primary diagnosis for admission to the ICU per the APACHE scoring criteria. Entered in the patient note forms. After a fixed period from admission has passed, the table cannot be updated by the caregiver."
   ]
  },
  {
   "cell_type": "code",
   "execution_count": 70,
   "metadata": {},
   "outputs": [
    {
     "name": "stdout",
     "output_type": "stream",
     "text": [
      "   admissiondxid  patientunitstayid  admitdxenteredoffset  \\\n",
      "0        8023778            2900217                    62   \n",
      "1        8023777            2900217                    62   \n",
      "2        8023779            2900217                    62   \n",
      "3        7929318            2900240                    53   \n",
      "4        7929317            2900240                    53   \n",
      "\n",
      "                                                                                                       admitdxpath  \\\n",
      "0                                          admission diagnosis|Operative Organ Systems|Organ System|Cardiovascular   \n",
      "1  admission diagnosis|Was the patient admitted from the O.R. or went to the O.R. within 4 hours of admission?|Yes   \n",
      "2         admission diagnosis|All Diagnosis|Operative|Diagnosis|Cardiovascular|Aortic and Mitral valve replacement   \n",
      "3                                    admission diagnosis|Non-operative Organ Systems|Organ System|Gastrointestinal   \n",
      "4   admission diagnosis|Was the patient admitted from the O.R. or went to the O.R. within 4 hours of admission?|No   \n",
      "\n",
      "                           admitdxname                          admitdxtext  \n",
      "0                       Cardiovascular                       Cardiovascular  \n",
      "1                                  Yes                                  Yes  \n",
      "2  Aortic and Mitral valve replacement  Aortic and Mitral valve replacement  \n",
      "3                     Gastrointestinal                     Gastrointestinal  \n",
      "4                                   No                                   No  \n",
      "       admissiondxid  patientunitstayid  admitdxenteredoffset\n",
      "count   6.268580e+05       6.268580e+05         626858.000000\n",
      "mean    5.024547e+06       1.747774e+06            113.279197\n",
      "std     2.713905e+06       9.923994e+05           1205.040850\n",
      "min     4.674110e+05       1.411680e+05         -49763.000000\n",
      "25%     2.598442e+06       9.607600e+05             12.000000\n",
      "50%     4.970030e+06       1.661070e+06             36.000000\n",
      "75%     7.868332e+06       2.738369e+06             96.000000\n",
      "max     9.499753e+06       3.353263e+06         371774.000000\n"
     ]
    }
   ],
   "source": [
    "adDx_df= extract_data(links[1])\n",
    "pd.set_option(\"display.max_columns\", None)\n",
    "print(adDx_df.head())\n",
    "print(adDx_df.describe())"
   ]
  },
  {
   "cell_type": "code",
   "execution_count": 71,
   "metadata": {},
   "outputs": [
    {
     "name": "stdout",
     "output_type": "stream",
     "text": [
      "(626858, 6)\n"
     ]
    }
   ],
   "source": [
    "print(adDx_df.shape)"
   ]
  },
  {
   "cell_type": "markdown",
   "metadata": {},
   "source": [
    "From the above outputs, we can see the admissionDx dataset has 626,858 rows and 6 columns. The admitdxname and admitdxtext columns may have null values. And it seems that it is set as yes or no. So I will fill the yes or no value with nan."
   ]
  },
  {
   "cell_type": "code",
   "execution_count": 82,
   "metadata": {},
   "outputs": [
    {
     "name": "stdout",
     "output_type": "stream",
     "text": [
      "   admissiondxid  patientunitstayid  admitdxenteredoffset  \\\n",
      "0        8023778            2900217                    62   \n",
      "1        8023777            2900217                    62   \n",
      "2        8023779            2900217                    62   \n",
      "3        7929318            2900240                    53   \n",
      "4        7929317            2900240                    53   \n",
      "\n",
      "                                                                                                       admitdxpath  \\\n",
      "0                                          admission diagnosis|Operative Organ Systems|Organ System|Cardiovascular   \n",
      "1  admission diagnosis|Was the patient admitted from the O.R. or went to the O.R. within 4 hours of admission?|Yes   \n",
      "2         admission diagnosis|All Diagnosis|Operative|Diagnosis|Cardiovascular|Aortic and Mitral valve replacement   \n",
      "3                                    admission diagnosis|Non-operative Organ Systems|Organ System|Gastrointestinal   \n",
      "4   admission diagnosis|Was the patient admitted from the O.R. or went to the O.R. within 4 hours of admission?|No   \n",
      "\n",
      "                           admitdxname                          admitdxtext  \n",
      "0                       Cardiovascular                       Cardiovascular  \n",
      "1                                  NaN                                  NaN  \n",
      "2  Aortic and Mitral valve replacement  Aortic and Mitral valve replacement  \n",
      "3                     Gastrointestinal                     Gastrointestinal  \n",
      "4                                  NaN                                  NaN  \n"
     ]
    }
   ],
   "source": [
    "adDx_df.replace({\"Yes\":np.NaN, \"No\":np.NaN}, inplace=True)\n",
    "print(adDx_df.head())"
   ]
  },
  {
   "cell_type": "code",
   "execution_count": 89,
   "metadata": {},
   "outputs": [
    {
     "name": "stdout",
     "output_type": "stream",
     "text": [
      "Here is the missing value sum in the dataset: \n",
      " \n",
      " admissiondxid                0\n",
      "patientunitstayid            0\n",
      "admitdxenteredoffset         0\n",
      "admitdxpath                  0\n",
      "admitdxname             241237\n",
      "admitdxtext             241237\n",
      "dtype: int64\n"
     ]
    }
   ],
   "source": [
    "print(\"Here is the missing value sum in the dataset:\", \"\\n\",\"\\n\", adDx_df.isnull().sum())"
   ]
  },
  {
   "cell_type": "markdown",
   "metadata": {},
   "source": [
    "### This cell of code extracts the dataset of allegy.csv.gz\n",
    "Purpose: The allergy tables contains details of patient allergies. The data is entered in the patient note forms."
   ]
  },
  {
   "cell_type": "code",
   "execution_count": 21,
   "metadata": {},
   "outputs": [
    {
     "name": "stdout",
     "output_type": "stream",
     "text": [
      "   allergyid  patientunitstayid  allergyoffset  allergyenteredoffset  \\\n",
      "0     378178             242070              3                     3   \n",
      "1     298537             242070             23                    63   \n",
      "2     378177             242070              3                     3   \n",
      "3     298536             242070             23                    63   \n",
      "4     385834             242083           1316                  1319   \n",
      "\n",
      "          allergynotetype specialtytype   usertype  rxincluded  writtenineicu  \\\n",
      "0          Daily Progress   eCM Primary      Other       False           True   \n",
      "1               Admission   eCM Primary  THC Nurse       False           True   \n",
      "2          Daily Progress   eCM Primary      Other       False           True   \n",
      "3               Admission   eCM Primary  THC Nurse       False           True   \n",
      "4  Comprehensive Progress   eCM Primary  THC Nurse       False           True   \n",
      "\n",
      "  drugname allergytype  \\\n",
      "0      NaN    Non Drug   \n",
      "1      NaN    Non Drug   \n",
      "2      NaN    Non Drug   \n",
      "3      NaN    Non Drug   \n",
      "4      NaN    Non Drug   \n",
      "\n",
      "                                                                                                                                                                                                                                                       allergyname  \\\n",
      "0  Red Dye                                                                                                                                                                                                                                                           \n",
      "1  Red Dye                                                                                                                                                                                                                                                           \n",
      "2  Tape                                                                                                                                                                                                                                                              \n",
      "3  Tape                                                                                                                                                                                                                                                              \n",
      "4  Lisinopril                                                                                                                                                                                                                                                        \n",
      "\n",
      "   drughiclseqno  \n",
      "0            NaN  \n",
      "1            NaN  \n",
      "2            NaN  \n",
      "3            NaN  \n",
      "4            NaN  \n",
      "          allergyid  patientunitstayid  allergyoffset  allergyenteredoffset  \\\n",
      "count  2.519490e+05       2.519490e+05  251949.000000         251949.000000   \n",
      "mean   2.358774e+06       2.104832e+06    4030.171043           4167.050784   \n",
      "std    1.211853e+06       1.009336e+06   20822.936923          20835.805623   \n",
      "min    2.234740e+05       2.420700e+05 -126691.000000         -16174.000000   \n",
      "25%    1.151029e+06       1.170156e+06      20.000000             47.000000   \n",
      "50%    2.421814e+06       2.374938e+06     103.000000            173.000000   \n",
      "75%    3.473340e+06       3.066876e+06    2334.000000           2592.000000   \n",
      "max    4.247154e+06       3.353254e+06  496311.000000         496313.000000   \n",
      "\n",
      "       drughiclseqno  \n",
      "count  154571.000000  \n",
      "mean     7528.521605  \n",
      "std      8850.714425  \n",
      "min         3.000000  \n",
      "25%      1744.000000  \n",
      "50%      3952.000000  \n",
      "75%      9759.000000  \n",
      "max     42339.000000  \n"
     ]
    }
   ],
   "source": [
    "allegy_df= extract_data(links[2])\n",
    "pd.set_option(\"display.max_colwidth\", 500)\n",
    "print(allegy_df.head())\n",
    "print(allegy_df.describe())"
   ]
  },
  {
   "cell_type": "code",
   "execution_count": 14,
   "metadata": {},
   "outputs": [
    {
     "name": "stdout",
     "output_type": "stream",
     "text": [
      "(251949, 13)\n",
      "allergyid                   0\n",
      "patientunitstayid           0\n",
      "allergyoffset               0\n",
      "allergyenteredoffset        0\n",
      "allergynotetype             0\n",
      "specialtytype               0\n",
      "usertype                    0\n",
      "rxincluded                  0\n",
      "writtenineicu               0\n",
      "drugname                97379\n",
      "allergytype                 0\n",
      "allergyname                 0\n",
      "drughiclseqno           97378\n",
      "dtype: int64\n"
     ]
    }
   ],
   "source": [
    "print(allegy_df.shape)\n",
    "print(allegy_df.isnull().sum())"
   ]
  },
  {
   "cell_type": "markdown",
   "metadata": {},
   "source": [
    "From the above outputs, we can see that the allegy dataset has 251,949 rows, and 13 columns. Drugname column and drughiclseqno column has more than 1/3 missing values. The drughiclseqno only has values when it is drug allegy, so it is reasonal that these two columns have missing values."
   ]
  },
  {
   "cell_type": "markdown",
   "metadata": {},
   "source": [
    "### This cell of code extracts the dataset of apacheApsVar.csv.gz.\n",
    "\n",
    "Purpose: Contains the variables used to calculate the Acute Physiology Score (APS) III for patients. APS-III is an established method of summarizing patient severity of illness on admission to the ICU, and is a part of the Acute Physiology Age Chronic Health Evaluation (APACHE) system of equations for predicting outcomes for ICU patients."
   ]
  },
  {
   "cell_type": "code",
   "execution_count": 24,
   "metadata": {},
   "outputs": [
    {
     "name": "stdout",
     "output_type": "stream",
     "text": [
      "   apacheapsvarid  patientunitstayid  intubated  vent  dialysis  eyes  motor  \\\n",
      "0               2             141168          0     0         0     4      6   \n",
      "1         2399659             141178          0     0         0    -1     -1   \n",
      "2          167885             141194          0     0         0     3      6   \n",
      "3           70691             141197          0     0         0     4      6   \n",
      "4         2279689             141203          0     1         0     1      3   \n",
      "\n",
      "   verbal  meds  urine   wbc  temperature  respiratoryrate  sodium  heartrate  \\\n",
      "0       5     0   -1.0  14.7         36.1             30.0   139.0        140   \n",
      "1      -1    -1   -1.0  -1.0         36.4             16.0    -1.0         88   \n",
      "2       4     0   -1.0  14.1         39.3             36.0   134.0        118   \n",
      "3       5     0   -1.0  -1.0         -1.0             25.0    -1.0        104   \n",
      "4       1     0   -1.0  12.7         35.1             33.0   145.0        120   \n",
      "\n",
      "   meanbp    ph  hematocrit  creatinine  albumin  pao2  pco2   bun  glucose  \\\n",
      "0    62.0 -1.00        40.1        2.30      3.1  -1.0  -1.0  27.0     95.0   \n",
      "1    -1.0 -1.00        -1.0       -1.00     -1.0  -1.0  -1.0  -1.0     -1.0   \n",
      "2    40.0 -1.00        27.4        2.51      2.3  -1.0  -1.0  31.0    168.0   \n",
      "3    -1.0 -1.00        -1.0       -1.00     -1.0  -1.0  -1.0  -1.0     -1.0   \n",
      "4    46.0  7.45        36.9        0.56     -1.0  51.0  37.0   9.0    145.0   \n",
      "\n",
      "   bilirubin   fio2  \n",
      "0        4.1   -1.0  \n",
      "1       -1.0   -1.0  \n",
      "2        0.4   -1.0  \n",
      "3       -1.0   -1.0  \n",
      "4       -1.0  100.0  \n",
      "       apacheapsvarid  patientunitstayid      intubated           vent  \\\n",
      "count    1.711770e+05       1.711770e+05  171177.000000  171177.000000   \n",
      "mean     1.180556e+06       1.747701e+06       0.148373       0.241551   \n",
      "std      7.282842e+05       9.988850e+05       0.355470       0.428025   \n",
      "min      2.000000e+00       1.411680e+05       0.000000       0.000000   \n",
      "25%      5.508220e+05       9.555340e+05       0.000000       0.000000   \n",
      "50%      1.159009e+06       1.670376e+06       0.000000       0.000000   \n",
      "75%      1.832476e+06       2.743419e+06       0.000000       0.000000   \n",
      "max      2.440018e+06       3.353263e+06       1.000000       1.000000   \n",
      "\n",
      "            dialysis           eyes          motor         verbal  \\\n",
      "count  171177.000000  171177.000000  171177.000000  171177.000000   \n",
      "mean        0.036857       3.346215       5.273454       3.860676   \n",
      "std         0.188410       1.214085       1.693745       1.754930   \n",
      "min         0.000000      -1.000000      -1.000000      -1.000000   \n",
      "25%         0.000000       3.000000       6.000000       3.000000   \n",
      "50%         0.000000       4.000000       6.000000       5.000000   \n",
      "75%         0.000000       4.000000       6.000000       5.000000   \n",
      "max         1.000000       4.000000       6.000000       5.000000   \n",
      "\n",
      "                meds          urine            wbc    temperature  \\\n",
      "count  171177.000000  171177.000000  171177.000000  171177.000000   \n",
      "mean       -0.011292     893.177655       8.905202      33.728719   \n",
      "std         0.179302    1637.209886       9.100861       9.725657   \n",
      "min        -1.000000  -11245.564800      -1.000000      -1.000000   \n",
      "25%         0.000000      -1.000000      -1.000000      36.100000   \n",
      "50%         0.000000      -1.000000       8.300000      36.400000   \n",
      "75%         0.000000    1420.761600      13.400000      36.700000   \n",
      "max         1.000000  269323.747200     198.100000      42.300000   \n",
      "\n",
      "       respiratoryrate         sodium      heartrate         meanbp  \\\n",
      "count    171177.000000  171177.000000  171177.000000  171177.000000   \n",
      "mean         24.784735     108.366800      98.667993      85.058000   \n",
      "std          15.301895      57.117164      33.263814      42.970431   \n",
      "min          -1.000000      -1.000000      -1.000000      -1.000000   \n",
      "25%          10.000000     129.000000      84.000000      53.000000   \n",
      "50%          27.000000     137.000000     104.000000      65.000000   \n",
      "75%          35.000000     140.000000     120.000000     123.000000   \n",
      "max          60.000000     195.000000     220.000000     200.000000   \n",
      "\n",
      "                  ph     hematocrit     creatinine        albumin  \\\n",
      "count  171177.000000  171177.000000  171177.000000  171177.000000   \n",
      "mean        0.906831      24.716856       0.999311       0.509275   \n",
      "std         3.506569      15.452859       1.852455       1.933294   \n",
      "min        -1.000000      -1.000000      -1.000000      -1.000000   \n",
      "25%        -1.000000      19.300000       0.470000      -1.000000   \n",
      "50%        -1.000000      29.700000       0.810000      -1.000000   \n",
      "75%        -1.000000      35.900000       1.360000       2.600000   \n",
      "max         7.810000      72.700000      24.950000       7.400000   \n",
      "\n",
      "                pao2           pco2            bun        glucose  \\\n",
      "count  171177.000000  171177.000000  171177.000000  171177.000000   \n",
      "mean       29.041982       9.020404      20.681516     141.184455   \n",
      "std        68.702746      19.510682      22.618132     109.723423   \n",
      "min        -1.000000      -1.000000      -1.000000      -1.000000   \n",
      "25%        -1.000000      -1.000000       7.000000      85.000000   \n",
      "50%        -1.000000      -1.000000      15.000000     115.000000   \n",
      "75%        -1.000000      -1.000000      28.000000     187.000000   \n",
      "max       636.000000     147.300000     254.000000    2357.000000   \n",
      "\n",
      "           bilirubin           fio2  \n",
      "count  171177.000000  171177.000000  \n",
      "mean       -0.210932      12.794373  \n",
      "std         1.807201      28.329034  \n",
      "min        -1.000000      -1.000000  \n",
      "25%        -1.000000      -1.000000  \n",
      "50%        -1.000000      -1.000000  \n",
      "75%         0.500000      -1.000000  \n",
      "max        60.200000     100.000000  \n"
     ]
    }
   ],
   "source": [
    "apApV_df= extract_data(links[3])\n",
    "pd.set_option('display.max_columns', None)\n",
    "print(apApV_df.head())\n",
    "print(apApV_df.describe())"
   ]
  },
  {
   "cell_type": "code",
   "execution_count": 69,
   "metadata": {
    "scrolled": false
   },
   "outputs": [
    {
     "name": "stdout",
     "output_type": "stream",
     "text": [
      "(171177, 26)\n"
     ]
    }
   ],
   "source": [
    "print(apApV_df.shape)"
   ]
  },
  {
   "cell_type": "code",
   "execution_count": 58,
   "metadata": {},
   "outputs": [
    {
     "name": "stdout",
     "output_type": "stream",
     "text": [
      "[ 4 -1  3  1  2]\n"
     ]
    }
   ],
   "source": [
    "print(apApV_df[\"eyes\"].unique())"
   ]
  },
  {
   "cell_type": "code",
   "execution_count": 59,
   "metadata": {},
   "outputs": [
    {
     "name": "stdout",
     "output_type": "stream",
     "text": [
      "[ 6 -1  3  1  4  5  2]\n"
     ]
    }
   ],
   "source": [
    "print(apApV_df[\"motor\"].unique())"
   ]
  },
  {
   "cell_type": "code",
   "execution_count": 60,
   "metadata": {},
   "outputs": [
    {
     "name": "stdout",
     "output_type": "stream",
     "text": [
      "[ 5 -1  4  1  3  2]\n"
     ]
    }
   ],
   "source": [
    "print(apApV_df[\"verbal\"].unique())"
   ]
  },
  {
   "cell_type": "markdown",
   "metadata": {},
   "source": [
    "As stated in the matadata, some columns may be set to Null when not presented. By checking the columns above, it seems that the dataset sets the NULL value to -1. So I will fill the -1s with NaN."
   ]
  },
  {
   "cell_type": "code",
   "execution_count": 94,
   "metadata": {},
   "outputs": [
    {
     "name": "stdout",
     "output_type": "stream",
     "text": [
      "   apacheapsvarid  patientunitstayid  intubated  vent  dialysis  eyes  motor  \\\n",
      "0               2             141168          0     0         0   4.0    6.0   \n",
      "1         2399659             141178          0     0         0   NaN    NaN   \n",
      "2          167885             141194          0     0         0   3.0    6.0   \n",
      "3           70691             141197          0     0         0   4.0    6.0   \n",
      "4         2279689             141203          0     1         0   1.0    3.0   \n",
      "\n",
      "   verbal  meds  urine   wbc  temperature  respiratoryrate  sodium  heartrate  \\\n",
      "0     5.0   0.0    NaN  14.7         36.1             30.0   139.0      140.0   \n",
      "1     NaN   NaN    NaN   NaN         36.4             16.0     NaN       88.0   \n",
      "2     4.0   0.0    NaN  14.1         39.3             36.0   134.0      118.0   \n",
      "3     5.0   0.0    NaN   NaN          NaN             25.0     NaN      104.0   \n",
      "4     1.0   0.0    NaN  12.7         35.1             33.0   145.0      120.0   \n",
      "\n",
      "   meanbp    ph  hematocrit  creatinine  albumin  pao2  pco2   bun  glucose  \\\n",
      "0    62.0   NaN        40.1        2.30      3.1   NaN   NaN  27.0     95.0   \n",
      "1     NaN   NaN         NaN         NaN      NaN   NaN   NaN   NaN      NaN   \n",
      "2    40.0   NaN        27.4        2.51      2.3   NaN   NaN  31.0    168.0   \n",
      "3     NaN   NaN         NaN         NaN      NaN   NaN   NaN   NaN      NaN   \n",
      "4    46.0  7.45        36.9        0.56      NaN  51.0  37.0   9.0    145.0   \n",
      "\n",
      "   bilirubin   fio2  \n",
      "0        4.1    NaN  \n",
      "1        NaN    NaN  \n",
      "2        0.4    NaN  \n",
      "3        NaN    NaN  \n",
      "4        NaN  100.0  \n"
     ]
    }
   ],
   "source": [
    "apApV_df.replace(-1, np.NaN, inplace=True)\n",
    "print(apApV_df.head())"
   ]
  },
  {
   "cell_type": "code",
   "execution_count": 95,
   "metadata": {},
   "outputs": [
    {
     "name": "stdout",
     "output_type": "stream",
     "text": [
      "Here is the missing value sum of the data set \n",
      " \n",
      " apacheapsvarid            0\n",
      "patientunitstayid         0\n",
      "intubated                 0\n",
      "vent                      0\n",
      "dialysis                  0\n",
      "eyes                   5525\n",
      "motor                  5525\n",
      "verbal                 5525\n",
      "meds                   3729\n",
      "urine                 87114\n",
      "wbc                   43564\n",
      "temperature           12351\n",
      "respiratoryrate        3526\n",
      "sodium                36466\n",
      "heartrate              2741\n",
      "meanbp                 3173\n",
      "ph                   132105\n",
      "hematocrit            40083\n",
      "creatinine            37090\n",
      "albumin              104254\n",
      "pao2                 132105\n",
      "pco2                 132105\n",
      "bun                   37667\n",
      "glucose               23063\n",
      "bilirubin            110465\n",
      "fio2                 132105\n",
      "dtype: int64\n"
     ]
    }
   ],
   "source": [
    "print(\"Here is the missing value sum of the data set\", \"\\n\", \"\\n\", apApV_df.isnull().sum())"
   ]
  },
  {
   "cell_type": "markdown",
   "metadata": {},
   "source": [
    "### This cell extracts the dataset patient.\n",
    "Purpose: Contains patient demographics and admission and discharge details for hospital and ICU stays."
   ]
  },
  {
   "cell_type": "code",
   "execution_count": 97,
   "metadata": {},
   "outputs": [
    {
     "name": "stdout",
     "output_type": "stream",
     "text": [
      "   patientunitstayid  patienthealthsystemstayid  gender age  ethnicity  \\\n",
      "0             141168                     128919  Female  70  Caucasian   \n",
      "1             141178                     128927  Female  52  Caucasian   \n",
      "2             141179                     128927  Female  52  Caucasian   \n",
      "3             141194                     128941    Male  68  Caucasian   \n",
      "4             141196                     128943    Male  71  Caucasian   \n",
      "\n",
      "   hospitalid  wardid                              apacheadmissiondx  \\\n",
      "0          59      91  Rhythm disturbance (atrial, supraventricular)   \n",
      "1          60      83                                            NaN   \n",
      "2          60      83                                            NaN   \n",
      "3          73      92          Sepsis, renal/UTI (including bladder)   \n",
      "4          67     109                                            NaN   \n",
      "\n",
      "   admissionheight hospitaladmittime24  hospitaladmitoffset  \\\n",
      "0            152.4            15:54:00                    0   \n",
      "1            162.6            08:56:00                  -14   \n",
      "2            162.6            08:56:00                  -22   \n",
      "3            180.3            18:18:40                 -780   \n",
      "4            162.6            20:21:00                  -99   \n",
      "\n",
      "    hospitaladmitsource  hospitaldischargeyear hospitaldischargetime24  \\\n",
      "0          Direct Admit                   2015                03:50:00   \n",
      "1  Emergency Department                   2015                19:20:00   \n",
      "2  Emergency Department                   2015                19:20:00   \n",
      "3                 Floor                   2015                23:30:00   \n",
      "4  Emergency Department                   2015                17:00:00   \n",
      "\n",
      "   hospitaldischargeoffset hospitaldischargelocation hospitaldischargestatus  \\\n",
      "0                     3596                     Death                 Expired   \n",
      "1                     2050                      Home                   Alive   \n",
      "2                     2042                      Home                   Alive   \n",
      "3                    12492                      Home                   Alive   \n",
      "4                     5460                      Home                   Alive   \n",
      "\n",
      "       unittype unitadmittime24       unitadmitsource  unitvisitnumber  \\\n",
      "0  Med-Surg ICU        15:54:00          Direct Admit                1   \n",
      "1  Med-Surg ICU        09:10:00  Emergency Department                1   \n",
      "2  Med-Surg ICU        09:18:00            ICU to SDU                2   \n",
      "3         CTICU        07:18:00                 Floor                1   \n",
      "4  Med-Surg ICU        22:00:00            ICU to SDU                2   \n",
      "\n",
      "     unitstaytype  admissionweight  dischargeweight unitdischargetime24  \\\n",
      "0           admit             84.3             85.8            03:50:00   \n",
      "1           admit             54.4             54.4            09:18:00   \n",
      "2  stepdown/other              NaN             60.4            19:20:00   \n",
      "3           admit             73.9             76.7            15:31:00   \n",
      "4  stepdown/other              NaN             63.2            22:23:00   \n",
      "\n",
      "   unitdischargeoffset unitdischargelocation unitdischargestatus  uniquepid  \n",
      "0                 3596                 Death             Expired  002-34851  \n",
      "1                    8  Step-Down Unit (SDU)               Alive  002-33870  \n",
      "2                 2042                  Home               Alive  002-33870  \n",
      "3                 4813                 Floor               Alive   002-5276  \n",
      "4                 1463                 Floor               Alive  002-37665  \n"
     ]
    }
   ],
   "source": [
    "patient_df= extract_data(links[24])\n",
    "print(patient_df.head())"
   ]
  },
  {
   "cell_type": "code",
   "execution_count": 99,
   "metadata": {},
   "outputs": [
    {
     "name": "stdout",
     "output_type": "stream",
     "text": [
      "The shape of the dataset \n",
      " (200859, 29)\n"
     ]
    }
   ],
   "source": [
    "print(\"The shape of the dataset\", \"\\n\", patient_df.shape)"
   ]
  },
  {
   "cell_type": "code",
   "execution_count": 100,
   "metadata": {},
   "outputs": [
    {
     "name": "stdout",
     "output_type": "stream",
     "text": [
      "The missing value sum of the dataset \n",
      " patientunitstayid                0\n",
      "patienthealthsystemstayid        0\n",
      "gender                         134\n",
      "age                             95\n",
      "ethnicity                     2290\n",
      "hospitalid                       0\n",
      "wardid                           0\n",
      "apacheadmissiondx            22996\n",
      "admissionheight               4215\n",
      "hospitaladmittime24              0\n",
      "hospitaladmitoffset              0\n",
      "hospitaladmitsource          49464\n",
      "hospitaldischargeyear            0\n",
      "hospitaldischargetime24          0\n",
      "hospitaldischargeoffset          0\n",
      "hospitaldischargelocation     2033\n",
      "hospitaldischargestatus       1751\n",
      "unittype                         0\n",
      "unitadmittime24                  0\n",
      "unitadmitsource               1090\n",
      "unitvisitnumber                  0\n",
      "unitstaytype                     0\n",
      "admissionweight              16718\n",
      "dischargeweight              90937\n",
      "unitdischargetime24              0\n",
      "unitdischargeoffset              0\n",
      "unitdischargelocation          334\n",
      "unitdischargestatus             34\n",
      "uniquepid                        0\n",
      "dtype: int64\n"
     ]
    }
   ],
   "source": [
    "print(\"The missing value sum of the dataset\", \"\\n\", patient_df.isnull().sum())"
   ]
  },
  {
   "cell_type": "markdown",
   "metadata": {},
   "source": [
    "Create a bar plot to visualize the number of male and female in the patient dataset."
   ]
  },
  {
   "cell_type": "code",
   "execution_count": 181,
   "metadata": {},
   "outputs": [
    {
     "name": "stdout",
     "output_type": "stream",
     "text": [
      "The unique values in the gender column: \n",
      " ['Female' 'Male' nan 'Unknown' 'Other']\n",
      "The sum of female and male patients: \n",
      " {'Female': 92303, 'Male': 108379, 'Not_Specified': 177}\n"
     ]
    },
    {
     "data": {
      "image/png": "[encoded data removed]",
      "text/plain": [
       "<Figure size 432x288 with 1 Axes>"
      ]
     },
     "metadata": {},
     "output_type": "display_data"
    }
   ],
   "source": [
    "import matplotlib.pyplot as plt\n",
    "print(\"The unique values in the gender column:\", \"\\n\",patient_df[\"gender\"].unique())\n",
    "gender_df = patient_df[[\"gender\"]]\n",
    "gender_dict = {\"Female\":0, \"Male\":0, \"Not_Specified\":0}\n",
    "for _, row in gender_df.itertuples():\n",
    "    if row == \"Female\":\n",
    "        gender_dict[\"Female\"]+=1\n",
    "    elif row == \"Male\":\n",
    "        gender_dict[\"Male\"]+=1\n",
    "    else:\n",
    "        gender_dict[\"Not_Specified\"]+=1\n",
    "print(\"The sum of female and male patients:\", \"\\n\", gender_dict)\n",
    "plt.bar(range(len(gender_dict)), list(gender_dict.values()), align=\"center\")\n",
    "plt.xticks(range(len(gender_dict)), list(gender_dict.keys()))\n",
    "plt.title(\"Sum of Female and Male\")\n",
    "plt.show()"
   ]
  },
  {
   "cell_type": "markdown",
   "metadata": {},
   "source": [
    "The above bar plot visualizes the sum of male and female patients in the dataset. If we ignore the unknown or nan values, there are more male patients than female patients."
   ]
  },
  {
   "cell_type": "markdown",
   "metadata": {},
   "source": [
    "Try to visualize the age distribution of the patients in the dataset groupby gender."
   ]
  },
  {
   "cell_type": "code",
   "execution_count": 186,
   "metadata": {},
   "outputs": [
    {
     "name": "stdout",
     "output_type": "stream",
     "text": [
      "float64\n"
     ]
    },
    {
     "data": {
      "text/plain": [
       "<matplotlib.axes._subplots.AxesSubplot at 0x14545c11320>"
      ]
     },
     "execution_count": 186,
     "metadata": {},
     "output_type": "execute_result"
    },
    {
     "data": {
      "image/png": "[encoded data removed]",
      "text/plain": [
       "<Figure size 720x576 with 1 Axes>"
      ]
     },
     "metadata": {},
     "output_type": "display_data"
    }
   ],
   "source": [
    "age_df = patient_df[[\"age\"]]\n",
    "#change the dtypes of age from object to numberic\n",
    "age_df = age_df[\"age\"].apply(pd.to_numeric, errors='coerce')\n",
    "print(age_df.dtypes)\n",
    "#concat gender column and age column\n",
    "gen_age_df = pd.concat([age_df, gender_df], axis=1)\n",
    "#print(gen_age_df.head())\n",
    "#create a boxplot of age group by gender\n",
    "fig, ax = plt.subplots(figsize=(10,8))\n",
    "plt.title=\"Age Distribution Group By Gender\"\n",
    "gen_age_df.boxplot(column=[\"age\"], by=\"gender\", ax=ax)"
   ]
  },
  {
   "cell_type": "markdown",
   "metadata": {},
   "source": [
    "The above boxplot shows that patients' age are mostly ranged from 52 to 75, while female patients are slightly older than male patient in average. The patients marked as other or unknow in gender are younger."
   ]
  },
  {
   "cell_type": "code",
   "execution_count": null,
   "metadata": {},
   "outputs": [],
   "source": []
  },
  {
   "cell_type": "code",
   "execution_count": null,
   "metadata": {},
   "outputs": [],
   "source": []
  }
 ],
 "metadata": {
  "kernelspec": {
   "display_name": "Python 3",
   "language": "python",
   "name": "python3"
  },
  "language_info": {
   "codemirror_mode": {
    "name": "ipython",
    "version": 3
   },
   "file_extension": ".py",
   "mimetype": "text/x-python",
   "name": "python",
   "nbconvert_exporter": "python",
   "pygments_lexer": "ipython3",
   "version": "3.6.5"
  }
 },
 "nbformat": 4,
 "nbformat_minor": 2
}
