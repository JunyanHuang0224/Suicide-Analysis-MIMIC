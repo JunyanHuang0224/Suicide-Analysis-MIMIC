{
 "cells": [
  {
   "cell_type": "markdown",
   "metadata": {},
   "source": [
    "<h1><center> Suicide Rate among Regions</center></h1> \n",
    "__<div style=\"text-align: right\"> Junyan Huang</div>__\n",
    "__<div style=\"text-align: right\"> Oct 2, 2018 </div>__"
   ]
  },
  {
   "cell_type": "markdown",
   "metadata": {},
   "source": [
    "### Introduction \n",
    "The project is to find out the suicide rate among regions. The tables needed are sui_patient and sui_hospital which are linked by hospitalid. These two tables are suicide related data. \n",
    "\n",
    "The first step is to count the number of icu records in each hospital. The medical records are indicated by patientunitstayid. Patientunitstayid is the unique id for each ICU stay. The same patient may have more than one patientunitstayid if he/she has more than one ICU visit record. In the project, such issue is not addressed. The project is just based on the patientunitstayid. The second step is to count the number of ICU records in each regions. And finally, to plot the distribution."
   ]
  },
  {
   "cell_type": "markdown",
   "metadata": {},
   "source": [
    "### Extract the number of suicide records in each hospital"
   ]
  },
  {
   "cell_type": "code",
   "execution_count": 94,
   "metadata": {},
   "outputs": [],
   "source": [
    "import pandas as pd"
   ]
  },
  {
   "cell_type": "code",
   "execution_count": 95,
   "metadata": {},
   "outputs": [
    {
     "name": "stdout",
     "output_type": "stream",
     "text": [
      "   hospitalid numbedscategory teachingstatus   region\n",
      "0          56            <100              f  Midwest\n",
      "1          58       100 - 249              f  Midwest\n",
      "2          59            <100              f  Midwest\n",
      "3          60            <100              f  Midwest\n",
      "4          61            <100              f  Midwest\n",
      "(208, 4)\n"
     ]
    }
   ],
   "source": [
    "hospital = pd.read_csv(\"/home/cs52205/hospital.csv.gz\", compression=\"gzip\", header=0, sep=\",\")\n",
    "print(hospital.head())\n",
    "print(hospital.shape)"
   ]
  },
  {
   "cell_type": "code",
   "execution_count": 111,
   "metadata": {},
   "outputs": [
    {
     "name": "stdout",
     "output_type": "stream",
     "text": [
      "   Unnamed: 0  hospitalid numbedscategory teachingstatus   region\n",
      "0           0          56            <100              f  Midwest\n",
      "1           1          58       100 - 249              f  Midwest\n",
      "2           3          60            <100              f  Midwest\n",
      "3           4          61            <100              f  Midwest\n",
      "4           5          63       100 - 249              f  Midwest\n",
      "(168, 5)\n"
     ]
    }
   ],
   "source": [
    "sui_hospital = pd.read_csv(\"/home/cs52205/suicide_records/sui_hospital.csv\", header=0, sep=\",\")\n",
    "print(sui_hospital.head())\n",
    "print(sui_hospital.shape)"
   ]
  },
  {
   "cell_type": "code",
   "execution_count": 112,
   "metadata": {},
   "outputs": [
    {
     "name": "stdout",
     "output_type": "stream",
     "text": [
      "   Unnamed: 0  hospitalid numbedscategory teachingstatus   region\n",
      "0           2          59            <100              f  Midwest\n",
      "1          13          83             NaN              f      NaN\n",
      "2          14          84            <100              f  Midwest\n",
      "3          15          85             NaN              f      NaN\n",
      "4          16          86             NaN              f  Midwest\n",
      "(40, 5)\n"
     ]
    }
   ],
   "source": [
    "not_sui_hospital=pd.read_csv(\"/home/cs52205/suicide_records/not_sui_hospital.csv\", header=0, sep=\",\")\n",
    "print(not_sui_hospital.head())\n",
    "print(not_sui_hospital.shape)"
   ]
  },
  {
   "cell_type": "code",
   "execution_count": 113,
   "metadata": {},
   "outputs": [],
   "source": [
    "patient = pd.read_csv(\"/home/cs52205/patient.csv.gz\", compression=\"gzip\", header=0, sep=\",\", index_col=0)\n",
    "sui_patient = pd.read_csv(\"/home/cs52205/suicide_records/sui_patient.csv\", header=0, sep=\",\", index_col=0)\n",
    "not_sui_patient = pd.read_csv(\"/home/cs52205/suicide_records/not_sui_patient.csv\", header=0, sep=\",\", index_col=0)"
   ]
  },
  {
   "cell_type": "code",
   "execution_count": 114,
   "metadata": {},
   "outputs": [],
   "source": [
    "#print(patient.head())"
   ]
  },
  {
   "cell_type": "markdown",
   "metadata": {},
   "source": [
    "Patient table and hospital table are linked by hospitalid"
   ]
  },
  {
   "cell_type": "code",
   "execution_count": 115,
   "metadata": {},
   "outputs": [
    {
     "name": "stdout",
     "output_type": "stream",
     "text": [
      "(1470, 29)\n"
     ]
    }
   ],
   "source": [
    "print(sui_patient.shape)"
   ]
  },
  {
   "cell_type": "code",
   "execution_count": 116,
   "metadata": {},
   "outputs": [],
   "source": [
    "sui_records = sui_patient.groupby(\"hospitalid\")[[\"patientunitstayid\"]].nunique()"
   ]
  },
  {
   "cell_type": "code",
   "execution_count": 117,
   "metadata": {},
   "outputs": [],
   "source": [
    "sui_records.rename(columns = {'patientunitstayid':'sui_records'}, inplace = True)"
   ]
  },
  {
   "cell_type": "code",
   "execution_count": 118,
   "metadata": {},
   "outputs": [],
   "source": [
    "sui_records.reset_index(inplace=True)"
   ]
  },
  {
   "cell_type": "code",
   "execution_count": 119,
   "metadata": {},
   "outputs": [
    {
     "name": "stdout",
     "output_type": "stream",
     "text": [
      "   hospitalid  sui_records\n",
      "0          56            3\n",
      "1          58           11\n",
      "2          60            6\n",
      "3          61            1\n",
      "4          63            3\n"
     ]
    }
   ],
   "source": [
    "print(sui_records.head())"
   ]
  },
  {
   "cell_type": "markdown",
   "metadata": {},
   "source": [
    "There are totally 168 unique hospitals in the table. The number of ICU records are shwon as above. For instance, in hospital id 56, there are 3 ICU records."
   ]
  },
  {
   "cell_type": "markdown",
   "metadata": {},
   "source": [
    "### Get the number of suicide records in each region."
   ]
  },
  {
   "cell_type": "code",
   "execution_count": 120,
   "metadata": {},
   "outputs": [
    {
     "name": "stdout",
     "output_type": "stream",
     "text": [
      "   Unnamed: 0  hospitalid numbedscategory teachingstatus   region\n",
      "0           0          56            <100              f  Midwest\n",
      "1           1          58       100 - 249              f  Midwest\n",
      "2           3          60            <100              f  Midwest\n",
      "3           4          61            <100              f  Midwest\n",
      "4           5          63       100 - 249              f  Midwest\n"
     ]
    }
   ],
   "source": [
    "print(sui_hospital.head())"
   ]
  },
  {
   "cell_type": "markdown",
   "metadata": {},
   "source": [
    "Since the hospitalid in the sui_hospital and sui_records are the same in both length and order, I will extract the region from sui_hospital table and records from sui_records and make a new dataframe."
   ]
  },
  {
   "cell_type": "code",
   "execution_count": 123,
   "metadata": {},
   "outputs": [
    {
     "name": "stdout",
     "output_type": "stream",
     "text": [
      "   hospitalid   region\n",
      "0          56  Midwest\n",
      "1          58  Midwest\n",
      "2          60  Midwest\n",
      "3          61  Midwest\n",
      "4          63  Midwest\n"
     ]
    }
   ],
   "source": [
    "region = sui_hospital[[\"hospitalid\",'region']].copy()\n",
    "print(region.head())"
   ]
  },
  {
   "cell_type": "code",
   "execution_count": 127,
   "metadata": {},
   "outputs": [
    {
     "name": "stdout",
     "output_type": "stream",
     "text": [
      "   hospitalid   region  hospitalid  sui_records\n",
      "0          56  Midwest          56            3\n",
      "1          58  Midwest          58           11\n",
      "2          60  Midwest          60            6\n",
      "3          61  Midwest          61            1\n",
      "4          63  Midwest          63            3\n"
     ]
    }
   ],
   "source": [
    "sui_region = pd.concat([region, sui_records], axis=1)\n",
    "print(sui_region.head())"
   ]
  },
  {
   "cell_type": "code",
   "execution_count": 139,
   "metadata": {},
   "outputs": [],
   "source": [
    "sui_records_raw = sui_patient[[\"patientunitstayid\", \"hospitalid\"]].copy()"
   ]
  },
  {
   "cell_type": "code",
   "execution_count": 140,
   "metadata": {},
   "outputs": [],
   "source": [
    "#sui_records_raw = sui_records_raw.reset_index(drop=True)"
   ]
  },
  {
   "cell_type": "code",
   "execution_count": 141,
   "metadata": {},
   "outputs": [
    {
     "name": "stdout",
     "output_type": "stream",
     "text": [
      "     patientunitstayid  hospitalid\n",
      "298             143389          66\n",
      "524             144741          66\n",
      "738             146060          69\n",
      "803             146486          73\n",
      "904             147041          61\n"
     ]
    }
   ],
   "source": [
    "print(sui_records_raw.head())"
   ]
  },
  {
   "cell_type": "code",
   "execution_count": null,
   "metadata": {},
   "outputs": [],
   "source": []
  }
 ],
 "metadata": {
  "kernelspec": {
   "display_name": "Python 2",
   "language": "python",
   "name": "python2"
  },
  "language_info": {
   "codemirror_mode": {
    "name": "ipython",
    "version": 2
   },
   "file_extension": ".py",
   "mimetype": "text/x-python",
   "name": "python",
   "nbconvert_exporter": "python",
   "pygments_lexer": "ipython2",
   "version": "2.7.15"
  }
 },
 "nbformat": 4,
 "nbformat_minor": 2
}
