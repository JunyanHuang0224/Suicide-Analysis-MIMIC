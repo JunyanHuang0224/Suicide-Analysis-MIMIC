{
 "cells": [
  {
   "cell_type": "markdown",
   "metadata": {},
   "source": [
    "<h1><center>Preview Suicide Data in MIMICIII</center></h1>"
   ]
  },
  {
   "cell_type": "markdown",
   "metadata": {},
   "source": [
    "### Introduction\n",
    "This project is to extract and preview the suicide data from MIMICIII database. The suicide data is indicated by the ICD9 codes. The most complete codes should be in the table DIAGNOSES_ICD."
   ]
  },
  {
   "cell_type": "markdown",
   "metadata": {},
   "source": [
    "According to Find-A-Code.com (https://www.findacode.com), the suicide related ICD-9 codes are (including suicidal ideation):"
   ]
  },
  {
   "cell_type": "markdown",
   "metadata": {},
   "source": [
    "| Code(s)         | Description                                                                       |\n",
    "|-----------------|-----------------------------------------------------------------------------------|\n",
    "| E950.0 ‑ E950.9 | E950 Suicide and self-inflicted poisoning by solid or liquid substances           |\n",
    "| E951.0 ‑ E951.8 | E951 Suicide and self-inflicted poisoning by gases in domestic use                |\n",
    "| E952.0 ‑ E952.9 | E952 Suicide and self-inflicted poisoning by other gases and vapors               |\n",
    "| E953.0 ‑ E953.9 | E953 Suicide and self-inflicted injury by hanging, strangulation, and suffocation |\n",
    "| E954 ‑ E954     | E954 Suicide and self-inflicted injury by submersion [drowning]                   |\n",
    "| E955.0 ‑ E955.9 | E955 Suicide and self-inflicted injury by firearms, air guns and explosives       |\n",
    "| E956 ‑ E956     | E956 Suicide and self-inflicted injury by cutting and piercing instrument         |\n",
    "| E957.0 ‑ E957.9 | E957 Suicide and self-inflicted injuries by jumping from high place               |\n",
    "| E958.0 ‑ E958.9 | E958 Suicide and self-inflicted injury by other and unspecified means             |\n",
    "| E959 ‑ E959     | E959 Late effects of self-inflicted injury                                        |\n",
    "| V62.84          | Suicidal ideation                                                                 |"
   ]
  },
  {
   "cell_type": "markdown",
   "metadata": {},
   "source": [
    "### Extract Suicide Data \n",
    "The suicide data is extracted from DIAGNOSES_ICD.csv based on its column \"ICD9_CODE\"."
   ]
  },
  {
   "cell_type": "code",
   "execution_count": 2,
   "metadata": {},
   "outputs": [],
   "source": [
    "import pandas as pd\n",
    "import matplotlib.pyplot as plt\n",
    "import dateutil\n",
    "import datetime as dt\n",
    "import numpy as np\n",
    "import math\n",
    "import seaborn as sns"
   ]
  },
  {
   "cell_type": "code",
   "execution_count": 3,
   "metadata": {},
   "outputs": [],
   "source": [
    "diagnoses_ICD = pd.read_csv(\"DIAGNOSES_ICD.csv\", header=0, sep=\",\")"
   ]
  },
  {
   "cell_type": "code",
   "execution_count": 4,
   "metadata": {},
   "outputs": [],
   "source": [
    "#print(diagnoses_ICD.head(100))"
   ]
  },
  {
   "cell_type": "code",
   "execution_count": 5,
   "metadata": {},
   "outputs": [
    {
     "name": "stdout",
     "output_type": "stream",
     "text": [
      "<class 'pandas.core.frame.DataFrame'>\n",
      "RangeIndex: 651047 entries, 0 to 651046\n",
      "Data columns (total 5 columns):\n",
      "ROW_ID        651047 non-null int64\n",
      "SUBJECT_ID    651047 non-null int64\n",
      "HADM_ID       651047 non-null int64\n",
      "SEQ_NUM       651000 non-null float64\n",
      "ICD9_CODE     651000 non-null object\n",
      "dtypes: float64(1), int64(3), object(1)\n",
      "memory usage: 24.8+ MB\n"
     ]
    }
   ],
   "source": [
    "diagnoses_ICD.info()"
   ]
  },
  {
   "cell_type": "code",
   "execution_count": 6,
   "metadata": {},
   "outputs": [],
   "source": [
    "is_suicide = diagnoses_ICD[\"ICD9_CODE\"].str.contains(\"V6284|E95\", na=False)"
   ]
  },
  {
   "cell_type": "code",
   "execution_count": 7,
   "metadata": {},
   "outputs": [],
   "source": [
    "sui_diagnoses_ICD = diagnoses_ICD[is_suicide]"
   ]
  },
  {
   "cell_type": "code",
   "execution_count": 8,
   "metadata": {},
   "outputs": [
    {
     "name": "stdout",
     "output_type": "stream",
     "text": [
      "      ROW_ID  SUBJECT_ID  HADM_ID  SEQ_NUM ICD9_CODE\n",
      "102     1562         119   135738      7.0      E956\n",
      "350      579          71   111944      4.0     E9503\n",
      "760      153          22   165315      3.0     E9502\n",
      "761      154          22   165315      4.0     E9503\n",
      "2036    3572         303   103013      7.0     E9500\n"
     ]
    }
   ],
   "source": [
    "print(sui_diagnoses_ICD.head())"
   ]
  },
  {
   "cell_type": "code",
   "execution_count": 9,
   "metadata": {},
   "outputs": [],
   "source": [
    "suicide_ICD_list = list(sui_diagnoses_ICD[\"ICD9_CODE\"])"
   ]
  },
  {
   "cell_type": "code",
   "execution_count": 10,
   "metadata": {},
   "outputs": [
    {
     "name": "stdout",
     "output_type": "stream",
     "text": [
      "877\n"
     ]
    }
   ],
   "source": [
    "print(len(suicide_ICD_list))"
   ]
  },
  {
   "cell_type": "markdown",
   "metadata": {},
   "source": [
    "There are 877 suicide related ICD codes, including suicidal ideation.\n",
    "Save the suicide related ICD codes to local storage with filename \"suicide_ICD.txt\""
   ]
  },
  {
   "cell_type": "code",
   "execution_count": 11,
   "metadata": {},
   "outputs": [],
   "source": [
    "with open(\"suicide_ICD.txt\", \"w\") as f:\n",
    "    for code in suicide_ICD_list:\n",
    "        f.write(code +\"\\n\")"
   ]
  },
  {
   "cell_type": "markdown",
   "metadata": {},
   "source": [
    "### Data Visualization"
   ]
  },
  {
   "cell_type": "markdown",
   "metadata": {},
   "source": [
    "#### Visualize the number of suicide records and non-suicide records."
   ]
  },
  {
   "cell_type": "code",
   "execution_count": 12,
   "metadata": {},
   "outputs": [
    {
     "data": {
      "image/png": "[encoded data removed]",
      "text/plain": [
       "<Figure size 432x288 with 1 Axes>"
      ]
     },
     "metadata": {},
     "output_type": "display_data"
    }
   ],
   "source": [
    "labels = [\"suicide\", \"non-suicide\"]\n",
    "sizes = [len(sui_diagnoses_ICD.index), len(diagnoses_ICD.index)-len(sui_diagnoses_ICD.index)]\n",
    "explode = (0.1, 0)\n",
    "fig1, ax1 = plt.subplots()\n",
    "ax1.pie(sizes, explode=explode, labels=labels, autopct='%.4f%%',\n",
    "        shadow=True, startangle=90)\n",
    "# Equal aspect ratio ensures that pie is drawn as a circle\n",
    "ax1.axis('equal')\n",
    "plt.title(\"Percentage of Suicide and Non-Suicide records\")\n",
    "plt.tight_layout()\n",
    "plt.show()"
   ]
  },
  {
   "cell_type": "markdown",
   "metadata": {},
   "source": [
    "The suicide data only takes 0.1347% of the whole data set."
   ]
  },
  {
   "cell_type": "markdown",
   "metadata": {},
   "source": [
    "#### Visualize the categories of the suicide ICD-9 codes."
   ]
  },
  {
   "cell_type": "code",
   "execution_count": 13,
   "metadata": {},
   "outputs": [
    {
     "data": {
      "image/png": "[encoded data removed]",
      "text/plain": [
       "<Figure size 432x288 with 1 Axes>"
      ]
     },
     "metadata": {},
     "output_type": "display_data"
    }
   ],
   "source": [
    "ax = sui_diagnoses_ICD['ICD9_CODE'].value_counts().plot(kind=\"bar\", title=\"Number of Different Suicide ICD Codes\")\n",
    "for i in ax.patches:\n",
    "    ax.text(i.get_x(), i.get_height()+2,str(i.get_height()))"
   ]
  },
  {
   "cell_type": "markdown",
   "metadata": {},
   "source": [
    "The top four ICD-9 codes are: E9503, E9500, E9504 and V6284\n",
    "1. E9503: Poison-psychotropic agt\n",
    "2. E9500: Poison-analgesics\n",
    "3. E9504: Poison-drug/medicin NEC\n",
    "4. V6284: Suicidal ideation"
   ]
  },
  {
   "cell_type": "markdown",
   "metadata": {},
   "source": [
    "Parse the ICD9 codes and extract the upper category, i.e. \"E950\" is the upper category of \"E9503\", and store the value in a new column \"Upper_Category\"."
   ]
  },
  {
   "cell_type": "code",
   "execution_count": 14,
   "metadata": {},
   "outputs": [
    {
     "name": "stderr",
     "output_type": "stream",
     "text": [
      "/home/cs52205/anaconda2/lib/python2.7/site-packages/ipykernel_launcher.py:1: SettingWithCopyWarning: \n",
      "A value is trying to be set on a copy of a slice from a DataFrame.\n",
      "Try using .loc[row_indexer,col_indexer] = value instead\n",
      "\n",
      "See the caveats in the documentation: http://pandas.pydata.org/pandas-docs/stable/indexing.html#indexing-view-versus-copy\n",
      "  \"\"\"Entry point for launching an IPython kernel.\n"
     ]
    }
   ],
   "source": [
    "sui_diagnoses_ICD[\"Upper_Category\"]=sui_diagnoses_ICD[\"ICD9_CODE\"].str.slice().str[0:4]"
   ]
  },
  {
   "cell_type": "code",
   "execution_count": 15,
   "metadata": {},
   "outputs": [
    {
     "name": "stdout",
     "output_type": "stream",
     "text": [
      "      ROW_ID  SUBJECT_ID  HADM_ID  SEQ_NUM ICD9_CODE Upper_Category\n",
      "102     1562         119   135738      7.0      E956           E956\n",
      "350      579          71   111944      4.0     E9503           E950\n",
      "760      153          22   165315      3.0     E9502           E950\n",
      "761      154          22   165315      4.0     E9503           E950\n",
      "2036    3572         303   103013      7.0     E9500           E950\n"
     ]
    }
   ],
   "source": [
    "print(sui_diagnoses_ICD.head())"
   ]
  },
  {
   "cell_type": "code",
   "execution_count": 16,
   "metadata": {},
   "outputs": [
    {
     "data": {
      "image/png": "[encoded data removed]",
      "text/plain": [
       "<Figure size 432x288 with 1 Axes>"
      ]
     },
     "metadata": {},
     "output_type": "display_data"
    }
   ],
   "source": [
    "ax2 = sui_diagnoses_ICD['Upper_Category'].value_counts().plot(kind=\"bar\", \n",
    "                                                              title=\"Number of Different Suicide ICD Codes (Upper Category)\")\n",
    "for i in ax2.patches:\n",
    "    ax2.text(i.get_x(), i.get_height()+2.5,str(i.get_height()))"
   ]
  },
  {
   "cell_type": "code",
   "execution_count": 17,
   "metadata": {},
   "outputs": [
    {
     "data": {
      "text/plain": [
       "(-1.1377109276637962,\n",
       " 1.520832623735541,\n",
       " -1.1145146727161235,\n",
       " 1.1132812249847497)"
      ]
     },
     "execution_count": 17,
     "metadata": {},
     "output_type": "execute_result"
    },
    {
     "data": {
      "image/png": "[encoded data removed]",
      "text/plain": [
       "<Figure size 432x288 with 1 Axes>"
      ]
     },
     "metadata": {},
     "output_type": "display_data"
    }
   ],
   "source": [
    "explode = (0.0, 0.0, 0.3, 0.0, 0.3, 0.0, 0.4, 0.0, 0.4)\n",
    "ax3 = sui_diagnoses_ICD['Upper_Category'].value_counts().plot(kind=\"pie\", labels=None,autopct='%1.2f%%', pctdistance=1.2, \n",
    "                                                              labeldistance=1.05,explode=explode,shadow=True,\n",
    "                                                             title=\"Number of Different Suicide ICD Codes (Upper Category)\")\n",
    "labels = [\"E950\", \"V6284\",\"E956\", \"E953\", \"E958\", \"E957\", \"E955\", \"E959\", \"E954\"]\n",
    "ax3.legend(labels,loc=\"right\", bbox_to_anchor=(1.2, 0.6))\n",
    "plt.axis(\"equal\")\n"
   ]
  },
  {
   "cell_type": "markdown",
   "metadata": {},
   "source": [
    "The top 3 suicide ICD codes are:\n",
    "\n",
    "1. E950: Suicide and self-inflicted poisoning by solid or liquid substances\n",
    "2. V6284: Suicidal ideation\n",
    "3. E953: Suicide and self-inflicted injury by hanging, strangulation, and suffocation"
   ]
  },
  {
   "cell_type": "markdown",
   "metadata": {},
   "source": [
    "__The results shows that most of the suicide attempts are by poisoning.__"
   ]
  },
  {
   "cell_type": "markdown",
   "metadata": {},
   "source": [
    "### Extact Suicide Data from PATIENTS Table"
   ]
  },
  {
   "cell_type": "markdown",
   "metadata": {},
   "source": [
    "The DIAGONSES_ICD table are connected to the tables PATIENTS AND ADMISSIONS by the foreign key SUBJECT_ID. So extract the SUBJECT_ID is needed.\n",
    "__SUBJECT_ID is a unique identifier which specifies an individual patient. It is a candidate key for the table, so is unique for each row.__"
   ]
  },
  {
   "cell_type": "code",
   "execution_count": 18,
   "metadata": {},
   "outputs": [],
   "source": [
    "suicide_subject_ID = list(sui_diagnoses_ICD[\"SUBJECT_ID\"])"
   ]
  },
  {
   "cell_type": "code",
   "execution_count": 19,
   "metadata": {},
   "outputs": [
    {
     "data": {
      "text/plain": [
       "877"
      ]
     },
     "execution_count": 19,
     "metadata": {},
     "output_type": "execute_result"
    }
   ],
   "source": [
    "len(suicide_subject_ID)"
   ]
  },
  {
   "cell_type": "code",
   "execution_count": 20,
   "metadata": {},
   "outputs": [
    {
     "data": {
      "text/plain": [
       "596"
      ]
     },
     "execution_count": 20,
     "metadata": {},
     "output_type": "execute_result"
    }
   ],
   "source": [
    "len(set(suicide_subject_ID))"
   ]
  },
  {
   "cell_type": "markdown",
   "metadata": {},
   "source": [
    "From the suicide_subject_ID list, there should be 596 patients that have suicide attempts or suicidal ideation."
   ]
  },
  {
   "cell_type": "code",
   "execution_count": 21,
   "metadata": {},
   "outputs": [],
   "source": [
    "with open(\"suicide_subject_ID.txt\", \"w\") as f:\n",
    "    for ID in suicide_subject_ID:\n",
    "        f.write(str(ID) +\"\\n\")"
   ]
  },
  {
   "cell_type": "code",
   "execution_count": 22,
   "metadata": {},
   "outputs": [],
   "source": [
    "patients = pd.read_csv(\"PATIENTS.csv\", header=0, sep=\",\")"
   ]
  },
  {
   "cell_type": "code",
   "execution_count": 23,
   "metadata": {},
   "outputs": [
    {
     "name": "stdout",
     "output_type": "stream",
     "text": [
      "   ROW_ID  SUBJECT_ID GENDER                  DOB                  DOD  \\\n",
      "0     234         249      F  2075-03-13 00:00:00                  NaN   \n",
      "1     235         250      F  2164-12-27 00:00:00  2188-11-22 00:00:00   \n",
      "2     236         251      M  2090-03-15 00:00:00                  NaN   \n",
      "3     237         252      M  2078-03-06 00:00:00                  NaN   \n",
      "4     238         253      F  2089-11-26 00:00:00                  NaN   \n",
      "\n",
      "              DOD_HOSP DOD_SSN  EXPIRE_FLAG  \n",
      "0                  NaN     NaN            0  \n",
      "1  2188-11-22 00:00:00     NaN            1  \n",
      "2                  NaN     NaN            0  \n",
      "3                  NaN     NaN            0  \n",
      "4                  NaN     NaN            0  \n"
     ]
    }
   ],
   "source": [
    "print(patients.head())"
   ]
  },
  {
   "cell_type": "code",
   "execution_count": 24,
   "metadata": {},
   "outputs": [],
   "source": [
    "sui_patients = patients[patients[\"SUBJECT_ID\"].isin(suicide_subject_ID)]"
   ]
  },
  {
   "cell_type": "code",
   "execution_count": 25,
   "metadata": {},
   "outputs": [],
   "source": [
    "#sui_patients.head(100)"
   ]
  },
  {
   "cell_type": "code",
   "execution_count": 26,
   "metadata": {},
   "outputs": [
    {
     "data": {
      "text/plain": [
       "(596, 8)"
      ]
     },
     "execution_count": 26,
     "metadata": {},
     "output_type": "execute_result"
    }
   ],
   "source": [
    "sui_patients.shape"
   ]
  },
  {
   "cell_type": "markdown",
   "metadata": {},
   "source": [
    "The number of patients that have suicide attempts or suicidal ideation is 596."
   ]
  },
  {
   "cell_type": "markdown",
   "metadata": {},
   "source": [
    "#### Visualize the distribution by gender."
   ]
  },
  {
   "cell_type": "code",
   "execution_count": 78,
   "metadata": {},
   "outputs": [
    {
     "data": {
      "image/png": "[encoded data removed]",
      "text/plain": [
       "<Figure size 432x288 with 1 Axes>"
      ]
     },
     "metadata": {},
     "output_type": "display_data"
    }
   ],
   "source": [
    "ax5 = patients[\"GENDER\"].value_counts().plot(kind=\"bar\", title=\"Gender Distribution in PATIENTS Table\", width=0.2)\n",
    "for i in ax5.patches:\n",
    "    ax5.text(i.get_x(), i.get_height()+3,str(i.get_height()))\n",
    "ax5.set_xticklabels([\"Male\", \"Female\"],rotation=\"horizontal\")\n",
    "ax5.set_facecolor('lightgrey')"
   ]
  },
  {
   "cell_type": "code",
   "execution_count": 84,
   "metadata": {},
   "outputs": [
    {
     "data": {
      "image/png": "[encoded data removed]",
      "text/plain": [
       "<Figure size 432x288 with 1 Axes>"
      ]
     },
     "metadata": {},
     "output_type": "display_data"
    }
   ],
   "source": [
    "patients[\"GENDER\"].value_counts().plot(kind=\"pie\", title=\"Gender Distribution in PATIENTS Table\", autopct='%1.2f%%')\n",
    "plt.axis(\"equal\")\n",
    "plt.show()"
   ]
  },
  {
   "cell_type": "code",
   "execution_count": 83,
   "metadata": {},
   "outputs": [
    {
     "data": {
      "image/png": "[encoded data removed]",
      "text/plain": [
       "<Figure size 432x288 with 1 Axes>"
      ]
     },
     "metadata": {},
     "output_type": "display_data"
    }
   ],
   "source": [
    "ax4 = sui_patients[\"GENDER\"].value_counts().plot(kind=\"bar\", title=\"Gender Distribution in Suicide-Related Data\", width=0.2)\n",
    "for i in ax4.patches:\n",
    "    ax4.text(i.get_x()+0.1, i.get_height()+2.5,str(i.get_height()))\n",
    "ax4.set_xticklabels([\"Male\", \"Female\"],rotation=\"horizontal\")\n",
    "ax4.set_facecolor('lightgrey')"
   ]
  },
  {
   "cell_type": "code",
   "execution_count": 82,
   "metadata": {},
   "outputs": [
    {
     "data": {
      "image/png": "[encoded data removed]",
      "text/plain": [
       "<Figure size 432x288 with 1 Axes>"
      ]
     },
     "metadata": {},
     "output_type": "display_data"
    }
   ],
   "source": [
    "sui_patients[\"GENDER\"].value_counts().plot(kind=\"pie\", title=\"Gender Distribution in Suicide-Related Data\", autopct='%1.2f%%')\n",
    "plt.axis(\"equal\")\n",
    "plt.show()"
   ]
  },
  {
   "cell_type": "markdown",
   "metadata": {},
   "source": [
    "The number of male patients is slightly greater than female, probably because there are more male patients in the whole data set."
   ]
  },
  {
   "cell_type": "markdown",
   "metadata": {},
   "source": [
    "#### Visualize distribution by age."
   ]
  },
  {
   "cell_type": "markdown",
   "metadata": {},
   "source": [
    "DOB is the date of birth of the given patient. Patients who are older than 89 years old at any time in the database have had their date of birth shifted to obscure their age and comply with HIPAA. The shift process was as follows: the patient’s age at their first admission was determined. The date of birth was then set to exactly 300 years before their first admission."
   ]
  },
  {
   "cell_type": "markdown",
   "metadata": {},
   "source": [
    "Calculate the age and add to the table, which needs the admissions table."
   ]
  },
  {
   "cell_type": "code",
   "execution_count": 28,
   "metadata": {},
   "outputs": [],
   "source": [
    "admissions = pd.read_csv(\"ADMISSIONS.csv\", sep=\",\", header=0)"
   ]
  },
  {
   "cell_type": "code",
   "execution_count": 29,
   "metadata": {},
   "outputs": [
    {
     "name": "stdout",
     "output_type": "stream",
     "text": [
      "<class 'pandas.core.frame.DataFrame'>\n",
      "RangeIndex: 58976 entries, 0 to 58975\n",
      "Data columns (total 19 columns):\n",
      "ROW_ID                  58976 non-null int64\n",
      "SUBJECT_ID              58976 non-null int64\n",
      "HADM_ID                 58976 non-null int64\n",
      "ADMITTIME               58976 non-null object\n",
      "DISCHTIME               58976 non-null object\n",
      "DEATHTIME               5854 non-null object\n",
      "ADMISSION_TYPE          58976 non-null object\n",
      "ADMISSION_LOCATION      58976 non-null object\n",
      "DISCHARGE_LOCATION      58976 non-null object\n",
      "INSURANCE               58976 non-null object\n",
      "LANGUAGE                33644 non-null object\n",
      "RELIGION                58518 non-null object\n",
      "MARITAL_STATUS          48848 non-null object\n",
      "ETHNICITY               58976 non-null object\n",
      "EDREGTIME               30877 non-null object\n",
      "EDOUTTIME               30877 non-null object\n",
      "DIAGNOSIS               58951 non-null object\n",
      "HOSPITAL_EXPIRE_FLAG    58976 non-null int64\n",
      "HAS_CHARTEVENTS_DATA    58976 non-null int64\n",
      "dtypes: int64(5), object(14)\n",
      "memory usage: 8.5+ MB\n",
      "None\n"
     ]
    }
   ],
   "source": [
    "print(admissions.info())"
   ]
  },
  {
   "cell_type": "code",
   "execution_count": 30,
   "metadata": {},
   "outputs": [],
   "source": [
    "# Convert date from string to date times\n",
    "admissions['ADMITTIME'] = admissions['ADMITTIME'].apply(dateutil.parser.parse, dayfirst=True)"
   ]
  },
  {
   "cell_type": "code",
   "execution_count": 31,
   "metadata": {},
   "outputs": [],
   "source": [
    "min_admittime = admissions.groupby(\"SUBJECT_ID\")[['ADMITTIME']].min().reset_index()"
   ]
  },
  {
   "cell_type": "code",
   "execution_count": 32,
   "metadata": {},
   "outputs": [
    {
     "data": {
      "text/plain": [
       "pandas.core.frame.DataFrame"
      ]
     },
     "execution_count": 32,
     "metadata": {},
     "output_type": "execute_result"
    }
   ],
   "source": [
    "type(min_admittime)"
   ]
  },
  {
   "cell_type": "code",
   "execution_count": 33,
   "metadata": {},
   "outputs": [
    {
     "data": {
      "text/html": [
       "<div>\n",
       "<style scoped>\n",
       "    .dataframe tbody tr th:only-of-type {\n",
       "        vertical-align: middle;\n",
       "    }\n",
       "\n",
       "    .dataframe tbody tr th {\n",
       "        vertical-align: top;\n",
       "    }\n",
       "\n",
       "    .dataframe thead th {\n",
       "        text-align: right;\n",
       "    }\n",
       "</style>\n",
       "<table border=\"1\" class=\"dataframe\">\n",
       "  <thead>\n",
       "    <tr style=\"text-align: right;\">\n",
       "      <th></th>\n",
       "      <th>SUBJECT_ID</th>\n",
       "      <th>ADMITTIME</th>\n",
       "    </tr>\n",
       "  </thead>\n",
       "  <tbody>\n",
       "    <tr>\n",
       "      <th>0</th>\n",
       "      <td>2</td>\n",
       "      <td>2138-07-17 19:04:00</td>\n",
       "    </tr>\n",
       "    <tr>\n",
       "      <th>1</th>\n",
       "      <td>3</td>\n",
       "      <td>2101-10-20 19:08:00</td>\n",
       "    </tr>\n",
       "    <tr>\n",
       "      <th>2</th>\n",
       "      <td>4</td>\n",
       "      <td>2191-03-16 00:28:00</td>\n",
       "    </tr>\n",
       "    <tr>\n",
       "      <th>3</th>\n",
       "      <td>5</td>\n",
       "      <td>2103-02-02 04:31:00</td>\n",
       "    </tr>\n",
       "    <tr>\n",
       "      <th>4</th>\n",
       "      <td>6</td>\n",
       "      <td>2175-05-30 07:15:00</td>\n",
       "    </tr>\n",
       "  </tbody>\n",
       "</table>\n",
       "</div>"
      ],
      "text/plain": [
       "   SUBJECT_ID           ADMITTIME\n",
       "0           2 2138-07-17 19:04:00\n",
       "1           3 2101-10-20 19:08:00\n",
       "2           4 2191-03-16 00:28:00\n",
       "3           5 2103-02-02 04:31:00\n",
       "4           6 2175-05-30 07:15:00"
      ]
     },
     "execution_count": 33,
     "metadata": {},
     "output_type": "execute_result"
    }
   ],
   "source": [
    "min_admittime.head()"
   ]
  },
  {
   "cell_type": "code",
   "execution_count": 34,
   "metadata": {},
   "outputs": [
    {
     "data": {
      "text/plain": [
       "(46520, 2)"
      ]
     },
     "execution_count": 34,
     "metadata": {},
     "output_type": "execute_result"
    }
   ],
   "source": [
    "min_admittime.shape"
   ]
  },
  {
   "cell_type": "code",
   "execution_count": 35,
   "metadata": {},
   "outputs": [],
   "source": [
    "patients_copy = patients.copy()"
   ]
  },
  {
   "cell_type": "code",
   "execution_count": 36,
   "metadata": {},
   "outputs": [
    {
     "data": {
      "text/html": [
       "<div>\n",
       "<style scoped>\n",
       "    .dataframe tbody tr th:only-of-type {\n",
       "        vertical-align: middle;\n",
       "    }\n",
       "\n",
       "    .dataframe tbody tr th {\n",
       "        vertical-align: top;\n",
       "    }\n",
       "\n",
       "    .dataframe thead th {\n",
       "        text-align: right;\n",
       "    }\n",
       "</style>\n",
       "<table border=\"1\" class=\"dataframe\">\n",
       "  <thead>\n",
       "    <tr style=\"text-align: right;\">\n",
       "      <th></th>\n",
       "      <th>ROW_ID</th>\n",
       "      <th>SUBJECT_ID</th>\n",
       "      <th>GENDER</th>\n",
       "      <th>DOB</th>\n",
       "      <th>DOD</th>\n",
       "      <th>DOD_HOSP</th>\n",
       "      <th>DOD_SSN</th>\n",
       "      <th>EXPIRE_FLAG</th>\n",
       "    </tr>\n",
       "  </thead>\n",
       "  <tbody>\n",
       "    <tr>\n",
       "      <th>0</th>\n",
       "      <td>234</td>\n",
       "      <td>249</td>\n",
       "      <td>F</td>\n",
       "      <td>2075-03-13 00:00:00</td>\n",
       "      <td>NaN</td>\n",
       "      <td>NaN</td>\n",
       "      <td>NaN</td>\n",
       "      <td>0</td>\n",
       "    </tr>\n",
       "    <tr>\n",
       "      <th>1</th>\n",
       "      <td>235</td>\n",
       "      <td>250</td>\n",
       "      <td>F</td>\n",
       "      <td>2164-12-27 00:00:00</td>\n",
       "      <td>2188-11-22 00:00:00</td>\n",
       "      <td>2188-11-22 00:00:00</td>\n",
       "      <td>NaN</td>\n",
       "      <td>1</td>\n",
       "    </tr>\n",
       "    <tr>\n",
       "      <th>2</th>\n",
       "      <td>236</td>\n",
       "      <td>251</td>\n",
       "      <td>M</td>\n",
       "      <td>2090-03-15 00:00:00</td>\n",
       "      <td>NaN</td>\n",
       "      <td>NaN</td>\n",
       "      <td>NaN</td>\n",
       "      <td>0</td>\n",
       "    </tr>\n",
       "    <tr>\n",
       "      <th>3</th>\n",
       "      <td>237</td>\n",
       "      <td>252</td>\n",
       "      <td>M</td>\n",
       "      <td>2078-03-06 00:00:00</td>\n",
       "      <td>NaN</td>\n",
       "      <td>NaN</td>\n",
       "      <td>NaN</td>\n",
       "      <td>0</td>\n",
       "    </tr>\n",
       "    <tr>\n",
       "      <th>4</th>\n",
       "      <td>238</td>\n",
       "      <td>253</td>\n",
       "      <td>F</td>\n",
       "      <td>2089-11-26 00:00:00</td>\n",
       "      <td>NaN</td>\n",
       "      <td>NaN</td>\n",
       "      <td>NaN</td>\n",
       "      <td>0</td>\n",
       "    </tr>\n",
       "  </tbody>\n",
       "</table>\n",
       "</div>"
      ],
      "text/plain": [
       "   ROW_ID  SUBJECT_ID GENDER                  DOB                  DOD  \\\n",
       "0     234         249      F  2075-03-13 00:00:00                  NaN   \n",
       "1     235         250      F  2164-12-27 00:00:00  2188-11-22 00:00:00   \n",
       "2     236         251      M  2090-03-15 00:00:00                  NaN   \n",
       "3     237         252      M  2078-03-06 00:00:00                  NaN   \n",
       "4     238         253      F  2089-11-26 00:00:00                  NaN   \n",
       "\n",
       "              DOD_HOSP DOD_SSN  EXPIRE_FLAG  \n",
       "0                  NaN     NaN            0  \n",
       "1  2188-11-22 00:00:00     NaN            1  \n",
       "2                  NaN     NaN            0  \n",
       "3                  NaN     NaN            0  \n",
       "4                  NaN     NaN            0  "
      ]
     },
     "execution_count": 36,
     "metadata": {},
     "output_type": "execute_result"
    }
   ],
   "source": [
    "patients_copy.head()"
   ]
  },
  {
   "cell_type": "code",
   "execution_count": 37,
   "metadata": {},
   "outputs": [],
   "source": [
    "patients_copy_sorted = patients_copy.sort_values(by=\"SUBJECT_ID\")"
   ]
  },
  {
   "cell_type": "code",
   "execution_count": 38,
   "metadata": {},
   "outputs": [
    {
     "name": "stdout",
     "output_type": "stream",
     "text": [
      "     ROW_ID  SUBJECT_ID GENDER                  DOB                  DOD  \\\n",
      "222       1           2      M  2138-07-17 00:00:00                  NaN   \n",
      "223       2           3      M  2025-04-11 00:00:00  2102-06-14 00:00:00   \n",
      "224       3           4      F  2143-05-12 00:00:00                  NaN   \n",
      "225       4           5      M  2103-02-02 00:00:00                  NaN   \n",
      "226       5           6      F  2109-06-21 00:00:00                  NaN   \n",
      "\n",
      "    DOD_HOSP              DOD_SSN  EXPIRE_FLAG  \n",
      "222      NaN                  NaN            0  \n",
      "223      NaN  2102-06-14 00:00:00            1  \n",
      "224      NaN                  NaN            0  \n",
      "225      NaN                  NaN            0  \n",
      "226      NaN                  NaN            0  \n"
     ]
    }
   ],
   "source": [
    "print(patients_copy_sorted.head())"
   ]
  },
  {
   "cell_type": "code",
   "execution_count": 39,
   "metadata": {},
   "outputs": [
    {
     "data": {
      "text/plain": [
       "(46520, 8)"
      ]
     },
     "execution_count": 39,
     "metadata": {},
     "output_type": "execute_result"
    }
   ],
   "source": [
    "patients_copy_sorted.shape"
   ]
  },
  {
   "cell_type": "code",
   "execution_count": 40,
   "metadata": {},
   "outputs": [],
   "source": [
    "patients_age = patients_copy_sorted.merge(min_admittime, how=\"inner\")"
   ]
  },
  {
   "cell_type": "code",
   "execution_count": 41,
   "metadata": {},
   "outputs": [
    {
     "data": {
      "text/html": [
       "<div>\n",
       "<style scoped>\n",
       "    .dataframe tbody tr th:only-of-type {\n",
       "        vertical-align: middle;\n",
       "    }\n",
       "\n",
       "    .dataframe tbody tr th {\n",
       "        vertical-align: top;\n",
       "    }\n",
       "\n",
       "    .dataframe thead th {\n",
       "        text-align: right;\n",
       "    }\n",
       "</style>\n",
       "<table border=\"1\" class=\"dataframe\">\n",
       "  <thead>\n",
       "    <tr style=\"text-align: right;\">\n",
       "      <th></th>\n",
       "      <th>ROW_ID</th>\n",
       "      <th>SUBJECT_ID</th>\n",
       "      <th>GENDER</th>\n",
       "      <th>DOB</th>\n",
       "      <th>DOD</th>\n",
       "      <th>DOD_HOSP</th>\n",
       "      <th>DOD_SSN</th>\n",
       "      <th>EXPIRE_FLAG</th>\n",
       "      <th>ADMITTIME</th>\n",
       "    </tr>\n",
       "  </thead>\n",
       "  <tbody>\n",
       "    <tr>\n",
       "      <th>0</th>\n",
       "      <td>1</td>\n",
       "      <td>2</td>\n",
       "      <td>M</td>\n",
       "      <td>2138-07-17 00:00:00</td>\n",
       "      <td>NaN</td>\n",
       "      <td>NaN</td>\n",
       "      <td>NaN</td>\n",
       "      <td>0</td>\n",
       "      <td>2138-07-17 19:04:00</td>\n",
       "    </tr>\n",
       "    <tr>\n",
       "      <th>1</th>\n",
       "      <td>2</td>\n",
       "      <td>3</td>\n",
       "      <td>M</td>\n",
       "      <td>2025-04-11 00:00:00</td>\n",
       "      <td>2102-06-14 00:00:00</td>\n",
       "      <td>NaN</td>\n",
       "      <td>2102-06-14 00:00:00</td>\n",
       "      <td>1</td>\n",
       "      <td>2101-10-20 19:08:00</td>\n",
       "    </tr>\n",
       "    <tr>\n",
       "      <th>2</th>\n",
       "      <td>3</td>\n",
       "      <td>4</td>\n",
       "      <td>F</td>\n",
       "      <td>2143-05-12 00:00:00</td>\n",
       "      <td>NaN</td>\n",
       "      <td>NaN</td>\n",
       "      <td>NaN</td>\n",
       "      <td>0</td>\n",
       "      <td>2191-03-16 00:28:00</td>\n",
       "    </tr>\n",
       "    <tr>\n",
       "      <th>3</th>\n",
       "      <td>4</td>\n",
       "      <td>5</td>\n",
       "      <td>M</td>\n",
       "      <td>2103-02-02 00:00:00</td>\n",
       "      <td>NaN</td>\n",
       "      <td>NaN</td>\n",
       "      <td>NaN</td>\n",
       "      <td>0</td>\n",
       "      <td>2103-02-02 04:31:00</td>\n",
       "    </tr>\n",
       "    <tr>\n",
       "      <th>4</th>\n",
       "      <td>5</td>\n",
       "      <td>6</td>\n",
       "      <td>F</td>\n",
       "      <td>2109-06-21 00:00:00</td>\n",
       "      <td>NaN</td>\n",
       "      <td>NaN</td>\n",
       "      <td>NaN</td>\n",
       "      <td>0</td>\n",
       "      <td>2175-05-30 07:15:00</td>\n",
       "    </tr>\n",
       "  </tbody>\n",
       "</table>\n",
       "</div>"
      ],
      "text/plain": [
       "   ROW_ID  SUBJECT_ID GENDER                  DOB                  DOD  \\\n",
       "0       1           2      M  2138-07-17 00:00:00                  NaN   \n",
       "1       2           3      M  2025-04-11 00:00:00  2102-06-14 00:00:00   \n",
       "2       3           4      F  2143-05-12 00:00:00                  NaN   \n",
       "3       4           5      M  2103-02-02 00:00:00                  NaN   \n",
       "4       5           6      F  2109-06-21 00:00:00                  NaN   \n",
       "\n",
       "  DOD_HOSP              DOD_SSN  EXPIRE_FLAG           ADMITTIME  \n",
       "0      NaN                  NaN            0 2138-07-17 19:04:00  \n",
       "1      NaN  2102-06-14 00:00:00            1 2101-10-20 19:08:00  \n",
       "2      NaN                  NaN            0 2191-03-16 00:28:00  \n",
       "3      NaN                  NaN            0 2103-02-02 04:31:00  \n",
       "4      NaN                  NaN            0 2175-05-30 07:15:00  "
      ]
     },
     "execution_count": 41,
     "metadata": {},
     "output_type": "execute_result"
    }
   ],
   "source": [
    "patients_age.head()"
   ]
  },
  {
   "cell_type": "markdown",
   "metadata": {},
   "source": [
    "Create a new column \"AGE\" which is the difference between DOB and ADMITTIME."
   ]
  },
  {
   "cell_type": "code",
   "execution_count": 42,
   "metadata": {},
   "outputs": [],
   "source": [
    "patients_age[\"DOB\"] = patients_age['DOB'].apply(dateutil.parser.parse, dayfirst=True)"
   ]
  },
  {
   "cell_type": "code",
   "execution_count": 43,
   "metadata": {},
   "outputs": [],
   "source": [
    "patients_age[\"AGE\"] = np.floor(((patients_age[\"ADMITTIME\"]-patients_age[\"DOB\"])/365/np.timedelta64(1, 'D'))).astype(int)"
   ]
  },
  {
   "cell_type": "code",
   "execution_count": 44,
   "metadata": {},
   "outputs": [
    {
     "data": {
      "text/html": [
       "<div>\n",
       "<style scoped>\n",
       "    .dataframe tbody tr th:only-of-type {\n",
       "        vertical-align: middle;\n",
       "    }\n",
       "\n",
       "    .dataframe tbody tr th {\n",
       "        vertical-align: top;\n",
       "    }\n",
       "\n",
       "    .dataframe thead th {\n",
       "        text-align: right;\n",
       "    }\n",
       "</style>\n",
       "<table border=\"1\" class=\"dataframe\">\n",
       "  <thead>\n",
       "    <tr style=\"text-align: right;\">\n",
       "      <th></th>\n",
       "      <th>ROW_ID</th>\n",
       "      <th>SUBJECT_ID</th>\n",
       "      <th>GENDER</th>\n",
       "      <th>DOB</th>\n",
       "      <th>DOD</th>\n",
       "      <th>DOD_HOSP</th>\n",
       "      <th>DOD_SSN</th>\n",
       "      <th>EXPIRE_FLAG</th>\n",
       "      <th>ADMITTIME</th>\n",
       "      <th>AGE</th>\n",
       "    </tr>\n",
       "  </thead>\n",
       "  <tbody>\n",
       "    <tr>\n",
       "      <th>0</th>\n",
       "      <td>1</td>\n",
       "      <td>2</td>\n",
       "      <td>M</td>\n",
       "      <td>2138-07-17</td>\n",
       "      <td>NaN</td>\n",
       "      <td>NaN</td>\n",
       "      <td>NaN</td>\n",
       "      <td>0</td>\n",
       "      <td>2138-07-17 19:04:00</td>\n",
       "      <td>0</td>\n",
       "    </tr>\n",
       "    <tr>\n",
       "      <th>1</th>\n",
       "      <td>2</td>\n",
       "      <td>3</td>\n",
       "      <td>M</td>\n",
       "      <td>2025-11-04</td>\n",
       "      <td>2102-06-14 00:00:00</td>\n",
       "      <td>NaN</td>\n",
       "      <td>2102-06-14 00:00:00</td>\n",
       "      <td>1</td>\n",
       "      <td>2101-10-20 19:08:00</td>\n",
       "      <td>76</td>\n",
       "    </tr>\n",
       "    <tr>\n",
       "      <th>2</th>\n",
       "      <td>3</td>\n",
       "      <td>4</td>\n",
       "      <td>F</td>\n",
       "      <td>2143-12-05</td>\n",
       "      <td>NaN</td>\n",
       "      <td>NaN</td>\n",
       "      <td>NaN</td>\n",
       "      <td>0</td>\n",
       "      <td>2191-03-16 00:28:00</td>\n",
       "      <td>47</td>\n",
       "    </tr>\n",
       "    <tr>\n",
       "      <th>3</th>\n",
       "      <td>4</td>\n",
       "      <td>5</td>\n",
       "      <td>M</td>\n",
       "      <td>2103-02-02</td>\n",
       "      <td>NaN</td>\n",
       "      <td>NaN</td>\n",
       "      <td>NaN</td>\n",
       "      <td>0</td>\n",
       "      <td>2103-02-02 04:31:00</td>\n",
       "      <td>0</td>\n",
       "    </tr>\n",
       "    <tr>\n",
       "      <th>4</th>\n",
       "      <td>5</td>\n",
       "      <td>6</td>\n",
       "      <td>F</td>\n",
       "      <td>2109-06-21</td>\n",
       "      <td>NaN</td>\n",
       "      <td>NaN</td>\n",
       "      <td>NaN</td>\n",
       "      <td>0</td>\n",
       "      <td>2175-05-30 07:15:00</td>\n",
       "      <td>65</td>\n",
       "    </tr>\n",
       "  </tbody>\n",
       "</table>\n",
       "</div>"
      ],
      "text/plain": [
       "   ROW_ID  SUBJECT_ID GENDER        DOB                  DOD DOD_HOSP  \\\n",
       "0       1           2      M 2138-07-17                  NaN      NaN   \n",
       "1       2           3      M 2025-11-04  2102-06-14 00:00:00      NaN   \n",
       "2       3           4      F 2143-12-05                  NaN      NaN   \n",
       "3       4           5      M 2103-02-02                  NaN      NaN   \n",
       "4       5           6      F 2109-06-21                  NaN      NaN   \n",
       "\n",
       "               DOD_SSN  EXPIRE_FLAG           ADMITTIME  AGE  \n",
       "0                  NaN            0 2138-07-17 19:04:00    0  \n",
       "1  2102-06-14 00:00:00            1 2101-10-20 19:08:00   76  \n",
       "2                  NaN            0 2191-03-16 00:28:00   47  \n",
       "3                  NaN            0 2103-02-02 04:31:00    0  \n",
       "4                  NaN            0 2175-05-30 07:15:00   65  "
      ]
     },
     "execution_count": 44,
     "metadata": {},
     "output_type": "execute_result"
    }
   ],
   "source": [
    "patients_age.head()"
   ]
  },
  {
   "cell_type": "code",
   "execution_count": 45,
   "metadata": {},
   "outputs": [
    {
     "data": {
      "text/html": [
       "<div>\n",
       "<style scoped>\n",
       "    .dataframe tbody tr th:only-of-type {\n",
       "        vertical-align: middle;\n",
       "    }\n",
       "\n",
       "    .dataframe tbody tr th {\n",
       "        vertical-align: top;\n",
       "    }\n",
       "\n",
       "    .dataframe thead th {\n",
       "        text-align: right;\n",
       "    }\n",
       "</style>\n",
       "<table border=\"1\" class=\"dataframe\">\n",
       "  <thead>\n",
       "    <tr style=\"text-align: right;\">\n",
       "      <th></th>\n",
       "      <th>ROW_ID</th>\n",
       "      <th>SUBJECT_ID</th>\n",
       "      <th>GENDER</th>\n",
       "      <th>DOB</th>\n",
       "      <th>DOD</th>\n",
       "      <th>DOD_HOSP</th>\n",
       "      <th>DOD_SSN</th>\n",
       "      <th>EXPIRE_FLAG</th>\n",
       "      <th>ADMITTIME</th>\n",
       "      <th>AGE</th>\n",
       "    </tr>\n",
       "  </thead>\n",
       "  <tbody>\n",
       "  </tbody>\n",
       "</table>\n",
       "</div>"
      ],
      "text/plain": [
       "Empty DataFrame\n",
       "Columns: [ROW_ID, SUBJECT_ID, GENDER, DOB, DOD, DOD_HOSP, DOD_SSN, EXPIRE_FLAG, ADMITTIME, AGE]\n",
       "Index: []"
      ]
     },
     "execution_count": 45,
     "metadata": {},
     "output_type": "execute_result"
    }
   ],
   "source": [
    "patients_age[patients_age[\"AGE\"] > 89]"
   ]
  },
  {
   "cell_type": "markdown",
   "metadata": {},
   "source": [
    "The patients older than 89 at their first admission have their ages protected. So for these group, ages are all set to be 90."
   ]
  },
  {
   "cell_type": "code",
   "execution_count": 46,
   "metadata": {},
   "outputs": [],
   "source": [
    "older89 = list(patients_age[patients_age[\"AGE\"] < 0].index)"
   ]
  },
  {
   "cell_type": "code",
   "execution_count": 47,
   "metadata": {},
   "outputs": [],
   "source": [
    "patients_age.loc[older89, \"AGE\"] = 90"
   ]
  },
  {
   "cell_type": "code",
   "execution_count": 48,
   "metadata": {},
   "outputs": [
    {
     "data": {
      "text/html": [
       "<div>\n",
       "<style scoped>\n",
       "    .dataframe tbody tr th:only-of-type {\n",
       "        vertical-align: middle;\n",
       "    }\n",
       "\n",
       "    .dataframe tbody tr th {\n",
       "        vertical-align: top;\n",
       "    }\n",
       "\n",
       "    .dataframe thead th {\n",
       "        text-align: right;\n",
       "    }\n",
       "</style>\n",
       "<table border=\"1\" class=\"dataframe\">\n",
       "  <thead>\n",
       "    <tr style=\"text-align: right;\">\n",
       "      <th></th>\n",
       "      <th>ROW_ID</th>\n",
       "      <th>SUBJECT_ID</th>\n",
       "      <th>GENDER</th>\n",
       "      <th>DOB</th>\n",
       "      <th>DOD</th>\n",
       "      <th>DOD_HOSP</th>\n",
       "      <th>DOD_SSN</th>\n",
       "      <th>EXPIRE_FLAG</th>\n",
       "      <th>ADMITTIME</th>\n",
       "      <th>AGE</th>\n",
       "    </tr>\n",
       "  </thead>\n",
       "  <tbody>\n",
       "  </tbody>\n",
       "</table>\n",
       "</div>"
      ],
      "text/plain": [
       "Empty DataFrame\n",
       "Columns: [ROW_ID, SUBJECT_ID, GENDER, DOB, DOD, DOD_HOSP, DOD_SSN, EXPIRE_FLAG, ADMITTIME, AGE]\n",
       "Index: []"
      ]
     },
     "execution_count": 48,
     "metadata": {},
     "output_type": "execute_result"
    }
   ],
   "source": [
    "patients_age[patients_age[\"AGE\"] <0]"
   ]
  },
  {
   "cell_type": "code",
   "execution_count": 49,
   "metadata": {},
   "outputs": [
    {
     "data": {
      "text/html": [
       "<div>\n",
       "<style scoped>\n",
       "    .dataframe tbody tr th:only-of-type {\n",
       "        vertical-align: middle;\n",
       "    }\n",
       "\n",
       "    .dataframe tbody tr th {\n",
       "        vertical-align: top;\n",
       "    }\n",
       "\n",
       "    .dataframe thead th {\n",
       "        text-align: right;\n",
       "    }\n",
       "</style>\n",
       "<table border=\"1\" class=\"dataframe\">\n",
       "  <thead>\n",
       "    <tr style=\"text-align: right;\">\n",
       "      <th></th>\n",
       "      <th>ROW_ID</th>\n",
       "      <th>SUBJECT_ID</th>\n",
       "      <th>GENDER</th>\n",
       "      <th>DOB</th>\n",
       "      <th>DOD</th>\n",
       "      <th>DOD_HOSP</th>\n",
       "      <th>DOD_SSN</th>\n",
       "      <th>EXPIRE_FLAG</th>\n",
       "      <th>ADMITTIME</th>\n",
       "      <th>AGE</th>\n",
       "    </tr>\n",
       "  </thead>\n",
       "  <tbody>\n",
       "    <tr>\n",
       "      <th>15</th>\n",
       "      <td>16</td>\n",
       "      <td>19</td>\n",
       "      <td>M</td>\n",
       "      <td>1808-05-08 00:00:00</td>\n",
       "      <td>2109-08-18 00:00:00</td>\n",
       "      <td>NaN</td>\n",
       "      <td>2109-08-18 00:00:00</td>\n",
       "      <td>1</td>\n",
       "      <td>2108-05-08 16:25:00</td>\n",
       "      <td>90</td>\n",
       "    </tr>\n",
       "    <tr>\n",
       "      <th>25</th>\n",
       "      <td>26</td>\n",
       "      <td>30</td>\n",
       "      <td>M</td>\n",
       "      <td>1872-10-14 00:00:00</td>\n",
       "      <td>NaN</td>\n",
       "      <td>NaN</td>\n",
       "      <td>NaN</td>\n",
       "      <td>0</td>\n",
       "      <td>2172-10-14 14:17:00</td>\n",
       "      <td>90</td>\n",
       "    </tr>\n",
       "    <tr>\n",
       "      <th>29</th>\n",
       "      <td>30</td>\n",
       "      <td>34</td>\n",
       "      <td>M</td>\n",
       "      <td>1886-07-18 00:00:00</td>\n",
       "      <td>2192-01-30 00:00:00</td>\n",
       "      <td>NaN</td>\n",
       "      <td>2192-01-30 00:00:00</td>\n",
       "      <td>1</td>\n",
       "      <td>2186-07-18 16:46:00</td>\n",
       "      <td>90</td>\n",
       "    </tr>\n",
       "    <tr>\n",
       "      <th>48</th>\n",
       "      <td>49</td>\n",
       "      <td>56</td>\n",
       "      <td>F</td>\n",
       "      <td>1804-02-01 00:00:00</td>\n",
       "      <td>2104-01-08 00:00:00</td>\n",
       "      <td>2104-01-08 00:00:00</td>\n",
       "      <td>2104-01-08 00:00:00</td>\n",
       "      <td>1</td>\n",
       "      <td>2104-02-01 02:01:00</td>\n",
       "      <td>90</td>\n",
       "    </tr>\n",
       "    <tr>\n",
       "      <th>102</th>\n",
       "      <td>103</td>\n",
       "      <td>112</td>\n",
       "      <td>M</td>\n",
       "      <td>1894-06-13 00:00:00</td>\n",
       "      <td>2196-09-29 00:00:00</td>\n",
       "      <td>2196-09-29 00:00:00</td>\n",
       "      <td>2196-09-29 00:00:00</td>\n",
       "      <td>1</td>\n",
       "      <td>2194-06-13 18:39:00</td>\n",
       "      <td>90</td>\n",
       "    </tr>\n",
       "  </tbody>\n",
       "</table>\n",
       "</div>"
      ],
      "text/plain": [
       "     ROW_ID  SUBJECT_ID GENDER                 DOB                  DOD  \\\n",
       "15       16          19      M 1808-05-08 00:00:00  2109-08-18 00:00:00   \n",
       "25       26          30      M 1872-10-14 00:00:00                  NaN   \n",
       "29       30          34      M 1886-07-18 00:00:00  2192-01-30 00:00:00   \n",
       "48       49          56      F 1804-02-01 00:00:00  2104-01-08 00:00:00   \n",
       "102     103         112      M 1894-06-13 00:00:00  2196-09-29 00:00:00   \n",
       "\n",
       "                DOD_HOSP              DOD_SSN  EXPIRE_FLAG  \\\n",
       "15                   NaN  2109-08-18 00:00:00            1   \n",
       "25                   NaN                  NaN            0   \n",
       "29                   NaN  2192-01-30 00:00:00            1   \n",
       "48   2104-01-08 00:00:00  2104-01-08 00:00:00            1   \n",
       "102  2196-09-29 00:00:00  2196-09-29 00:00:00            1   \n",
       "\n",
       "              ADMITTIME  AGE  \n",
       "15  2108-05-08 16:25:00   90  \n",
       "25  2172-10-14 14:17:00   90  \n",
       "29  2186-07-18 16:46:00   90  \n",
       "48  2104-02-01 02:01:00   90  \n",
       "102 2194-06-13 18:39:00   90  "
      ]
     },
     "execution_count": 49,
     "metadata": {},
     "output_type": "execute_result"
    }
   ],
   "source": [
    "patients_age.loc[older89, :].head()"
   ]
  },
  {
   "cell_type": "markdown",
   "metadata": {},
   "source": [
    "Now the ages are found. Those older than 89 are marked with age 90."
   ]
  },
  {
   "cell_type": "markdown",
   "metadata": {},
   "source": [
    "Save the patient_age to local directory in a csv file named \"PATIENT_WITH_AGE.csv\"."
   ]
  },
  {
   "cell_type": "code",
   "execution_count": 50,
   "metadata": {},
   "outputs": [],
   "source": [
    "patients_age.to_csv(\"PATIENT_WITH_AGE.csv\")"
   ]
  },
  {
   "cell_type": "markdown",
   "metadata": {},
   "source": [
    "__Examine the age distribution in the PATIENTS table.__"
   ]
  },
  {
   "cell_type": "code",
   "execution_count": 73,
   "metadata": {
    "scrolled": true
   },
   "outputs": [
    {
     "name": "stderr",
     "output_type": "stream",
     "text": [
      "/home/cs52205/anaconda2/lib/python2.7/site-packages/matplotlib/axes/_axes.py:6462: UserWarning: The 'normed' kwarg is deprecated, and has been replaced by the 'density' kwarg.\n",
      "  warnings.warn(\"The 'normed' kwarg is deprecated, and has been \"\n"
     ]
    },
    {
     "data": {
      "text/plain": [
       "<matplotlib.axes._subplots.AxesSubplot at 0x7f69bc32f290>"
      ]
     },
     "execution_count": 73,
     "metadata": {},
     "output_type": "execute_result"
    },
    {
     "data": {
      "image/png": "[encoded data removed]",
      "text/plain": [
       "<Figure size 432x288 with 1 Axes>"
      ]
     },
     "metadata": {},
     "output_type": "display_data"
    }
   ],
   "source": [
    "sns.distplot(patients_age['AGE'], hist=True, kde=True, \n",
    "             bins=int(180/5), color = 'red', \n",
    "             hist_kws={'edgecolor':\"blue\"},\n",
    "             kde_kws={'linewidth': 2, \"color\":\"green\"})"
   ]
  },
  {
   "cell_type": "markdown",
   "metadata": {},
   "source": [
    "In the PATIENTS tables, the peak age is 0. From age 15 to age 89, the number increases as the age increases. Besides age 0, the highest desity age group is above 60."
   ]
  },
  {
   "cell_type": "markdown",
   "metadata": {},
   "source": [
    "__Visualize the age distribution in the suicide-related data.__"
   ]
  },
  {
   "cell_type": "code",
   "execution_count": 85,
   "metadata": {},
   "outputs": [],
   "source": [
    "sui_patients_age = patients_age[patients_age[\"SUBJECT_ID\"].isin(suicide_subject_ID)]"
   ]
  },
  {
   "cell_type": "code",
   "execution_count": 86,
   "metadata": {},
   "outputs": [
    {
     "data": {
      "text/plain": [
       "(596, 10)"
      ]
     },
     "execution_count": 86,
     "metadata": {},
     "output_type": "execute_result"
    }
   ],
   "source": [
    "sui_patients_age.shape"
   ]
  },
  {
   "cell_type": "code",
   "execution_count": 87,
   "metadata": {},
   "outputs": [
    {
     "name": "stderr",
     "output_type": "stream",
     "text": [
      "/home/cs52205/anaconda2/lib/python2.7/site-packages/matplotlib/axes/_axes.py:6462: UserWarning: The 'normed' kwarg is deprecated, and has been replaced by the 'density' kwarg.\n",
      "  warnings.warn(\"The 'normed' kwarg is deprecated, and has been \"\n"
     ]
    },
    {
     "data": {
      "text/plain": [
       "<matplotlib.axes._subplots.AxesSubplot at 0x7f69c3377fd0>"
      ]
     },
     "execution_count": 87,
     "metadata": {},
     "output_type": "execute_result"
    },
    {
     "data": {
      "image/png": "[encoded data removed]",
      "text/plain": [
       "<Figure size 432x288 with 1 Axes>"
      ]
     },
     "metadata": {},
     "output_type": "display_data"
    }
   ],
   "source": [
    "sns.distplot(sui_patients_age['AGE'], hist=True, kde=True, \n",
    "             bins=int(180/5), color = 'red', \n",
    "             hist_kws={'edgecolor':\"blue\"},\n",
    "             kde_kws={'linewidth': 2, \"color\":\"green\"})"
   ]
  },
  {
   "cell_type": "code",
   "execution_count": 113,
   "metadata": {},
   "outputs": [
    {
     "name": "stderr",
     "output_type": "stream",
     "text": [
      "/home/cs52205/anaconda2/lib/python2.7/site-packages/matplotlib/axes/_axes.py:6462: UserWarning: The 'normed' kwarg is deprecated, and has been replaced by the 'density' kwarg.\n",
      "  warnings.warn(\"The 'normed' kwarg is deprecated, and has been \"\n",
      "/home/cs52205/anaconda2/lib/python2.7/site-packages/matplotlib/axes/_axes.py:6462: UserWarning: The 'normed' kwarg is deprecated, and has been replaced by the 'density' kwarg.\n",
      "  warnings.warn(\"The 'normed' kwarg is deprecated, and has been \"\n"
     ]
    },
    {
     "data": {
      "image/png": "[encoded data removed]",
      "text/plain": [
       "<Figure size 432x288 with 1 Axes>"
      ]
     },
     "metadata": {},
     "output_type": "display_data"
    }
   ],
   "source": [
    "x = patients_age[\"AGE\"]\n",
    "y = sui_patients_age[\"AGE\"]\n",
    "fig, ax = plt.subplots()\n",
    "for a in [x, y]:\n",
    "    if a is x:\n",
    "        sns.distplot(a, hist=True, kde=True, \n",
    "             bins=int(180/5), \n",
    "             hist_kws={'edgecolor':\"blue\"},\n",
    "             kde_kws={'linewidth': 2}, label=\"All Data\")\n",
    "    else:\n",
    "        sns.distplot(a, hist=True, kde=True, \n",
    "             bins=int(180/5), \n",
    "             hist_kws={'edgecolor':\"blue\"},\n",
    "             kde_kws={'linewidth': 2}, label=\"Suicide Data\")\n",
    "ax.legend()\n",
    "plt.show()"
   ]
  },
  {
   "cell_type": "markdown",
   "metadata": {},
   "source": [
    "The peak age among the suicide records is around age 45. The high desity age group ranges from about 18 to 54. After 54, the desity drops dramatically. The age distribution of the whole data set is focus on age 60 or older. That makes the suicide rate among age group ranged from 18 to 54 even higher."
   ]
  }
 ],
 "metadata": {
  "kernelspec": {
   "display_name": "Python 2",
   "language": "python",
   "name": "python2"
  },
  "language_info": {
   "codemirror_mode": {
    "name": "ipython",
    "version": 2
   },
   "file_extension": ".py",
   "mimetype": "text/x-python",
   "name": "python",
   "nbconvert_exporter": "python",
   "pygments_lexer": "ipython2",
   "version": "2.7.15"
  }
 },
 "nbformat": 4,
 "nbformat_minor": 2
}
